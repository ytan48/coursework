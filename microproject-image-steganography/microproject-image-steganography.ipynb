{
 "cells": [
  {
   "cell_type": "markdown",
   "metadata": {},
   "source": [
    "<h1 style=\"text-align: center\">\n",
    "<div style=\"color: #DD3403; font-size: 60%\">Data Science DISCOVERY MicroProject</div>\n",
    "<span style=\"\">MicroProject: Image Steganography with DataFrames</span>\n",
    "<div style=\"font-size: 60%;\"><a href=\"https://discovery.cs.illinois.edu/microproject/image-steganography-with-dataframes/\">https://discovery.cs.illinois.edu/microproject/image-steganography-with-dataframes/</a></div>\n",
    "</h1>\n",
    "\n",
    "<hr style=\"color: #DD3403;\">"
   ]
  },
  {
   "cell_type": "markdown",
   "metadata": {},
   "source": [
    "## Overview\n",
    "\n",
    "**Steganography** describes the technique of hiding data within secondary, usually ordinary, data to avoid detection.  For example, an ordinary PNG image might look like a picture to us -- but, hidden inside of the image, is a special encoding that reveals hidden data that otherwise goes undetected.\n",
    "\n",
    "In this MicroProject, you will explore steganography by decoding a message secretly hidden in an image just for you.  Let's nerd out!"
   ]
  },
  {
   "cell_type": "markdown",
   "metadata": {},
   "source": [
    "<hr style=\"color: #DD3403;\">"
   ]
  },
  {
   "cell_type": "markdown",
   "metadata": {},
   "source": [
    "## Part 0: Using the DISCOVERY Library\n",
    "\n",
    "Identical to the Mosaic Project you recently completed, we have provided you the DISCOVERY library that loads an image from disk and converts the image into a DataFrame containing the `x`, `y`, `r`, `g`, and `b` values for every pixel.\n",
    "\n",
    "The \"Block I\" image is included in this MicroProject and is just an ordinary Illini \"Block I\" (open it up and check it out!).  The following code imports the DISCOVERY library and loads the \"Block I\" image called `i.png`:"
   ]
  },
  {
   "cell_type": "code",
   "execution_count": 47,
   "metadata": {},
   "outputs": [
    {
     "data": {
      "text/html": [
       "<div>\n",
       "<style scoped>\n",
       "    .dataframe tbody tr th:only-of-type {\n",
       "        vertical-align: middle;\n",
       "    }\n",
       "\n",
       "    .dataframe tbody tr th {\n",
       "        vertical-align: top;\n",
       "    }\n",
       "\n",
       "    .dataframe thead th {\n",
       "        text-align: right;\n",
       "    }\n",
       "</style>\n",
       "<table border=\"1\" class=\"dataframe\">\n",
       "  <thead>\n",
       "    <tr style=\"text-align: right;\">\n",
       "      <th></th>\n",
       "      <th>x</th>\n",
       "      <th>y</th>\n",
       "      <th>r</th>\n",
       "      <th>g</th>\n",
       "      <th>b</th>\n",
       "    </tr>\n",
       "  </thead>\n",
       "  <tbody>\n",
       "    <tr>\n",
       "      <th>0</th>\n",
       "      <td>0</td>\n",
       "      <td>0</td>\n",
       "      <td>255</td>\n",
       "      <td>255</td>\n",
       "      <td>255</td>\n",
       "    </tr>\n",
       "    <tr>\n",
       "      <th>1</th>\n",
       "      <td>0</td>\n",
       "      <td>1</td>\n",
       "      <td>255</td>\n",
       "      <td>255</td>\n",
       "      <td>255</td>\n",
       "    </tr>\n",
       "    <tr>\n",
       "      <th>2</th>\n",
       "      <td>0</td>\n",
       "      <td>2</td>\n",
       "      <td>255</td>\n",
       "      <td>255</td>\n",
       "      <td>255</td>\n",
       "    </tr>\n",
       "    <tr>\n",
       "      <th>3</th>\n",
       "      <td>0</td>\n",
       "      <td>3</td>\n",
       "      <td>255</td>\n",
       "      <td>255</td>\n",
       "      <td>255</td>\n",
       "    </tr>\n",
       "    <tr>\n",
       "      <th>4</th>\n",
       "      <td>0</td>\n",
       "      <td>4</td>\n",
       "      <td>255</td>\n",
       "      <td>255</td>\n",
       "      <td>255</td>\n",
       "    </tr>\n",
       "    <tr>\n",
       "      <th>...</th>\n",
       "      <td>...</td>\n",
       "      <td>...</td>\n",
       "      <td>...</td>\n",
       "      <td>...</td>\n",
       "      <td>...</td>\n",
       "    </tr>\n",
       "    <tr>\n",
       "      <th>73897</th>\n",
       "      <td>225</td>\n",
       "      <td>322</td>\n",
       "      <td>255</td>\n",
       "      <td>255</td>\n",
       "      <td>255</td>\n",
       "    </tr>\n",
       "    <tr>\n",
       "      <th>73898</th>\n",
       "      <td>225</td>\n",
       "      <td>323</td>\n",
       "      <td>255</td>\n",
       "      <td>255</td>\n",
       "      <td>255</td>\n",
       "    </tr>\n",
       "    <tr>\n",
       "      <th>73899</th>\n",
       "      <td>225</td>\n",
       "      <td>324</td>\n",
       "      <td>255</td>\n",
       "      <td>255</td>\n",
       "      <td>255</td>\n",
       "    </tr>\n",
       "    <tr>\n",
       "      <th>73900</th>\n",
       "      <td>225</td>\n",
       "      <td>325</td>\n",
       "      <td>255</td>\n",
       "      <td>255</td>\n",
       "      <td>255</td>\n",
       "    </tr>\n",
       "    <tr>\n",
       "      <th>73901</th>\n",
       "      <td>225</td>\n",
       "      <td>326</td>\n",
       "      <td>255</td>\n",
       "      <td>255</td>\n",
       "      <td>255</td>\n",
       "    </tr>\n",
       "  </tbody>\n",
       "</table>\n",
       "<p>73902 rows × 5 columns</p>\n",
       "</div>"
      ],
      "text/plain": [
       "         x    y    r    g    b\n",
       "0        0    0  255  255  255\n",
       "1        0    1  255  255  255\n",
       "2        0    2  255  255  255\n",
       "3        0    3  255  255  255\n",
       "4        0    4  255  255  255\n",
       "...    ...  ...  ...  ...  ...\n",
       "73897  225  322  255  255  255\n",
       "73898  225  323  255  255  255\n",
       "73899  225  324  255  255  255\n",
       "73900  225  325  255  255  255\n",
       "73901  225  326  255  255  255\n",
       "\n",
       "[73902 rows x 5 columns]"
      ]
     },
     "execution_count": 47,
     "metadata": {},
     "output_type": "execute_result"
    }
   ],
   "source": [
    "import DISCOVERY\n",
    "\n",
    "df = DISCOVERY.df_image(\"i.png\")\n",
    "df"
   ]
  },
  {
   "cell_type": "code",
   "execution_count": 48,
   "metadata": {},
   "outputs": [
    {
     "name": "stdout",
     "output_type": "stream",
     "text": [
      "🎉 All Tests Passed! 🎉\n"
     ]
    }
   ],
   "source": [
    "### TEST CASE for Part 0: Using the DISCOVERY Library\n",
    "tada = \"\\N{PARTY POPPER}\"\n",
    "\n",
    "assert(\"df\" in vars())\n",
    "assert(len(df) == 73902)\n",
    "print(f\"{tada} All Tests Passed! {tada}\")"
   ]
  },
  {
   "cell_type": "markdown",
   "metadata": {},
   "source": [
    "<hr style=\"color: #DD3403;\">"
   ]
  },
  {
   "cell_type": "markdown",
   "metadata": {},
   "source": [
    "## Part 1: Steganography\n",
    "\n",
    "In the Journal of Vision Research (June 2000), Andrew Stockman and Lindsay T. Sharpe's *[\"The spectral sensitivities of the middle- and long-wavelength-sensitive cones derived from measurements in observers of known genotype\"](https://www.sciencedirect.com/science/article/pii/S0042698900000213)* presents an incredibly detailed study of the sensitivity that the three types of cones have to various wavelengths of light.\n",
    "\n",
    "Their work quantifies that **the human eye is far more sensitive to green and red light than to blue light**.  Given this finding, this MicroProject will explore the hypothesis that we may be able hide data by slightly changing the blue components of pixels in an image and those changes without the changes being detected visually.\n",
    "\n",
    "\n",
    "## \"Blue Steganography\"\n",
    "\n",
    "Based on the background research and hypothesis above, we will implement a way to detect \"Blue Steganography\" in an image.  A few basic foundations:\n",
    "\n",
    "- We never want to change the blue (`b`) value of any pixel by more than 1 (ex: if the original value `b` value is `153`, our final value should be `152`, `153`, or `154` -- at most only adding or subtracting one to `153`).  Larger changes than this would almost certainly be easily detectable.\n",
    "\n",
    "- To store information in this way, we will hide our message by checking if the `b` value is an **even number** or an **odd number**.  Specifically:\n",
    "\n",
    "1. We will consider **all columns** but **only the first 27 rows** of any image (`y=0` to `y=26`).\n",
    "2. **Exactly one** `b` value in the first 27 rows of each column will be an **even value**.   All other `b` values in the first 27 rows will be an odd value.\n",
    "3. The **row** (y-value) in which the even value was found will represent the letter in our secret, hidden message.\n",
    "    - The even `b` value in the first row of the image, `y=0`, represents an `A`,\n",
    "    - The even `b` value in row `y=1` represents a `B`,\n",
    "    - The even `b` value in row `y=2` represents a `C`,\n",
    "    - ...and so on, until...\n",
    "    - The even `b` value in row `y=25` represents a `Z`, and\n",
    "    - The even `b` value in row `y=26` represents a space (` `).\n",
    "\n",
    "*(This is only one possible steganography algorithm among many, but it should succeed in being an unnoticeable change to an image -- and it should be simple to process!)*"
   ]
  },
  {
   "cell_type": "markdown",
   "metadata": {},
   "source": [
    "### Finding the First 27 Rows\n",
    "\n",
    "Using the image `df` loaded earlier, first filter the DataFrame to **only the first 27 rows** (`y=0` to `y=26`) making sure to keep all the columns:"
   ]
  },
  {
   "cell_type": "code",
   "execution_count": 49,
   "metadata": {},
   "outputs": [
    {
     "data": {
      "text/html": [
       "<div>\n",
       "<style scoped>\n",
       "    .dataframe tbody tr th:only-of-type {\n",
       "        vertical-align: middle;\n",
       "    }\n",
       "\n",
       "    .dataframe tbody tr th {\n",
       "        vertical-align: top;\n",
       "    }\n",
       "\n",
       "    .dataframe thead th {\n",
       "        text-align: right;\n",
       "    }\n",
       "</style>\n",
       "<table border=\"1\" class=\"dataframe\">\n",
       "  <thead>\n",
       "    <tr style=\"text-align: right;\">\n",
       "      <th></th>\n",
       "      <th>x</th>\n",
       "      <th>y</th>\n",
       "      <th>r</th>\n",
       "      <th>g</th>\n",
       "      <th>b</th>\n",
       "    </tr>\n",
       "  </thead>\n",
       "  <tbody>\n",
       "    <tr>\n",
       "      <th>0</th>\n",
       "      <td>0</td>\n",
       "      <td>0</td>\n",
       "      <td>255</td>\n",
       "      <td>255</td>\n",
       "      <td>255</td>\n",
       "    </tr>\n",
       "    <tr>\n",
       "      <th>1</th>\n",
       "      <td>0</td>\n",
       "      <td>1</td>\n",
       "      <td>255</td>\n",
       "      <td>255</td>\n",
       "      <td>255</td>\n",
       "    </tr>\n",
       "    <tr>\n",
       "      <th>2</th>\n",
       "      <td>0</td>\n",
       "      <td>2</td>\n",
       "      <td>255</td>\n",
       "      <td>255</td>\n",
       "      <td>255</td>\n",
       "    </tr>\n",
       "    <tr>\n",
       "      <th>3</th>\n",
       "      <td>0</td>\n",
       "      <td>3</td>\n",
       "      <td>255</td>\n",
       "      <td>255</td>\n",
       "      <td>255</td>\n",
       "    </tr>\n",
       "    <tr>\n",
       "      <th>4</th>\n",
       "      <td>0</td>\n",
       "      <td>4</td>\n",
       "      <td>255</td>\n",
       "      <td>255</td>\n",
       "      <td>255</td>\n",
       "    </tr>\n",
       "    <tr>\n",
       "      <th>...</th>\n",
       "      <td>...</td>\n",
       "      <td>...</td>\n",
       "      <td>...</td>\n",
       "      <td>...</td>\n",
       "      <td>...</td>\n",
       "    </tr>\n",
       "    <tr>\n",
       "      <th>73597</th>\n",
       "      <td>225</td>\n",
       "      <td>22</td>\n",
       "      <td>255</td>\n",
       "      <td>255</td>\n",
       "      <td>255</td>\n",
       "    </tr>\n",
       "    <tr>\n",
       "      <th>73598</th>\n",
       "      <td>225</td>\n",
       "      <td>23</td>\n",
       "      <td>255</td>\n",
       "      <td>255</td>\n",
       "      <td>255</td>\n",
       "    </tr>\n",
       "    <tr>\n",
       "      <th>73599</th>\n",
       "      <td>225</td>\n",
       "      <td>24</td>\n",
       "      <td>255</td>\n",
       "      <td>255</td>\n",
       "      <td>255</td>\n",
       "    </tr>\n",
       "    <tr>\n",
       "      <th>73600</th>\n",
       "      <td>225</td>\n",
       "      <td>25</td>\n",
       "      <td>255</td>\n",
       "      <td>255</td>\n",
       "      <td>255</td>\n",
       "    </tr>\n",
       "    <tr>\n",
       "      <th>73601</th>\n",
       "      <td>225</td>\n",
       "      <td>26</td>\n",
       "      <td>255</td>\n",
       "      <td>255</td>\n",
       "      <td>255</td>\n",
       "    </tr>\n",
       "  </tbody>\n",
       "</table>\n",
       "<p>6102 rows × 5 columns</p>\n",
       "</div>"
      ],
      "text/plain": [
       "         x   y    r    g    b\n",
       "0        0   0  255  255  255\n",
       "1        0   1  255  255  255\n",
       "2        0   2  255  255  255\n",
       "3        0   3  255  255  255\n",
       "4        0   4  255  255  255\n",
       "...    ...  ..  ...  ...  ...\n",
       "73597  225  22  255  255  255\n",
       "73598  225  23  255  255  255\n",
       "73599  225  24  255  255  255\n",
       "73600  225  25  255  255  255\n",
       "73601  225  26  255  255  255\n",
       "\n",
       "[6102 rows x 5 columns]"
      ]
     },
     "execution_count": 49,
     "metadata": {},
     "output_type": "execute_result"
    }
   ],
   "source": [
    "# Filter the DataFrame to only the first 26 rows:\n",
    "df = df[(df['y'] >= 0)&(df['y']<= 26)]\n",
    "df"
   ]
  },
  {
   "cell_type": "code",
   "execution_count": 50,
   "metadata": {},
   "outputs": [
    {
     "name": "stdout",
     "output_type": "stream",
     "text": [
      "🎉 All Tests Passed! 🎉\n"
     ]
    }
   ],
   "source": [
    "### TEST CASE for Part 1: Finding the First 27 Rows\n",
    "tada = \"\\N{PARTY POPPER}\"\n",
    "assert(max(df.y) == 26), \"The maximum value for `y` should be 26 (y=0...26) to consider only the first 27 rows.\"\n",
    "assert(len(df) == 6102)\n",
    "\n",
    "# ...and copy the DataFrame to avoid warnings about the slice:\n",
    "df = df.copy()\n",
    "\n",
    "print(f\"{tada} All Tests Passed! {tada}\")"
   ]
  },
  {
   "cell_type": "markdown",
   "metadata": {},
   "source": [
    "### Label the Pixels with an Even `b` Value\n",
    "\n",
    "Now that you have a DataFrame with only the rows we're interested in, we need to find the one row in each column that has an **even value**.  To detect if a value is even, we can use the \"modulo\" operation.  The \"modulo\" operation -- denoted by the percentage operator ($\\%$) -- is the integer remainder after doing integer/long division.\n",
    "\n",
    "For example:\n",
    "- $7 / 4$ has us divide $7$ into $4$.  The result of integer/long division is \"$1$ remainder $3$\".  Therefore, $7 \\% 4 = 3$ (the remainder).\n",
    "- Similarly, $43 / 11$ is \"$3$ remainder $10$\".  Therefore, $43 \\% 11 = 10$ (since 10 is the remainder).\n",
    "- Finally, $11 / 2$ is \"$5$ remainder $1$\".   Therefore, $11 \\% 2 = 1$  (since 1 is the remainder).\n",
    "\n",
    "When we \"modulo\" by 2, there's a very special property to determine if we have an even or odd number:\n",
    "- Even numbers ALWAYS have a remainder of `0`\n",
    "- Odd numbers ALWAYS have a remainder of `1`\n",
    "\n",
    "Create a new column called `mod2` that stores the result of the operation `df.b % 2` to find if the blue value of each pixel is even or odd:"
   ]
  },
  {
   "cell_type": "code",
   "execution_count": 51,
   "metadata": {},
   "outputs": [
    {
     "data": {
      "text/plain": [
       "0        1\n",
       "1        1\n",
       "2        1\n",
       "3        1\n",
       "4        1\n",
       "        ..\n",
       "73597    1\n",
       "73598    1\n",
       "73599    1\n",
       "73600    1\n",
       "73601    1\n",
       "Name: mod2, Length: 6102, dtype: int64"
      ]
     },
     "execution_count": 51,
     "metadata": {},
     "output_type": "execute_result"
    }
   ],
   "source": [
    "# Create a new column `mod2`:\n",
    "df [\"mod2\"]=df ['b']%2\n",
    "df [\"mod2\" ]"
   ]
  },
  {
   "cell_type": "code",
   "execution_count": 52,
   "metadata": {},
   "outputs": [
    {
     "name": "stdout",
     "output_type": "stream",
     "text": [
      "🎉 All Tests Passed! 🎉\n"
     ]
    }
   ],
   "source": [
    "### TEST CASE for Part 1: Label the Pixels with an Even b Value\n",
    "tada = \"\\N{PARTY POPPER}\"\n",
    "assert(\"mod2\" in df), \"You must have the column `mod2` in your DataFrame\"\n",
    "assert(sum(df.mod2) == 6074), \"You should have 6,074 odd blue pixels among your 6,102 pixels.  Check your mod2 logic.\"\n",
    "print(f\"{tada} All Tests Passed! {tada}\")"
   ]
  },
  {
   "cell_type": "markdown",
   "metadata": {},
   "source": [
    "### Filter to Include ONLY Even-Valued Blue Pixels\n",
    "\n",
    "Our steganography algorithm hides our message in the cells with **even values for the blue pixels**.  Using your `mod2` column you just created and your knowledge of the result of the `mod2` operation, filter your DataFrame to only contain the pixels with an even value in the blue pixel:"
   ]
  },
  {
   "cell_type": "code",
   "execution_count": 53,
   "metadata": {},
   "outputs": [
    {
     "data": {
      "text/html": [
       "<div>\n",
       "<style scoped>\n",
       "    .dataframe tbody tr th:only-of-type {\n",
       "        vertical-align: middle;\n",
       "    }\n",
       "\n",
       "    .dataframe tbody tr th {\n",
       "        vertical-align: top;\n",
       "    }\n",
       "\n",
       "    .dataframe thead th {\n",
       "        text-align: right;\n",
       "    }\n",
       "</style>\n",
       "<table border=\"1\" class=\"dataframe\">\n",
       "  <thead>\n",
       "    <tr style=\"text-align: right;\">\n",
       "      <th></th>\n",
       "      <th>x</th>\n",
       "      <th>y</th>\n",
       "      <th>r</th>\n",
       "      <th>g</th>\n",
       "      <th>b</th>\n",
       "      <th>mod2</th>\n",
       "    </tr>\n",
       "  </thead>\n",
       "  <tbody>\n",
       "    <tr>\n",
       "      <th>24</th>\n",
       "      <td>0</td>\n",
       "      <td>24</td>\n",
       "      <td>255</td>\n",
       "      <td>255</td>\n",
       "      <td>254</td>\n",
       "      <td>0</td>\n",
       "    </tr>\n",
       "    <tr>\n",
       "      <th>341</th>\n",
       "      <td>1</td>\n",
       "      <td>14</td>\n",
       "      <td>255</td>\n",
       "      <td>255</td>\n",
       "      <td>254</td>\n",
       "      <td>0</td>\n",
       "    </tr>\n",
       "    <tr>\n",
       "      <th>674</th>\n",
       "      <td>2</td>\n",
       "      <td>20</td>\n",
       "      <td>255</td>\n",
       "      <td>255</td>\n",
       "      <td>254</td>\n",
       "      <td>0</td>\n",
       "    </tr>\n",
       "    <tr>\n",
       "      <th>1007</th>\n",
       "      <td>3</td>\n",
       "      <td>26</td>\n",
       "      <td>255</td>\n",
       "      <td>255</td>\n",
       "      <td>254</td>\n",
       "      <td>0</td>\n",
       "    </tr>\n",
       "    <tr>\n",
       "      <th>1313</th>\n",
       "      <td>4</td>\n",
       "      <td>5</td>\n",
       "      <td>255</td>\n",
       "      <td>255</td>\n",
       "      <td>254</td>\n",
       "      <td>0</td>\n",
       "    </tr>\n",
       "    <tr>\n",
       "      <th>1649</th>\n",
       "      <td>5</td>\n",
       "      <td>14</td>\n",
       "      <td>255</td>\n",
       "      <td>255</td>\n",
       "      <td>254</td>\n",
       "      <td>0</td>\n",
       "    </tr>\n",
       "    <tr>\n",
       "      <th>1982</th>\n",
       "      <td>6</td>\n",
       "      <td>20</td>\n",
       "      <td>255</td>\n",
       "      <td>255</td>\n",
       "      <td>254</td>\n",
       "      <td>0</td>\n",
       "    </tr>\n",
       "    <tr>\n",
       "      <th>2302</th>\n",
       "      <td>7</td>\n",
       "      <td>13</td>\n",
       "      <td>255</td>\n",
       "      <td>255</td>\n",
       "      <td>254</td>\n",
       "      <td>0</td>\n",
       "    </tr>\n",
       "    <tr>\n",
       "      <th>2619</th>\n",
       "      <td>8</td>\n",
       "      <td>3</td>\n",
       "      <td>255</td>\n",
       "      <td>255</td>\n",
       "      <td>254</td>\n",
       "      <td>0</td>\n",
       "    </tr>\n",
       "    <tr>\n",
       "      <th>2969</th>\n",
       "      <td>9</td>\n",
       "      <td>26</td>\n",
       "      <td>255</td>\n",
       "      <td>255</td>\n",
       "      <td>254</td>\n",
       "      <td>0</td>\n",
       "    </tr>\n",
       "    <tr>\n",
       "      <th>3289</th>\n",
       "      <td>10</td>\n",
       "      <td>19</td>\n",
       "      <td>255</td>\n",
       "      <td>255</td>\n",
       "      <td>254</td>\n",
       "      <td>0</td>\n",
       "    </tr>\n",
       "    <tr>\n",
       "      <th>3604</th>\n",
       "      <td>11</td>\n",
       "      <td>7</td>\n",
       "      <td>255</td>\n",
       "      <td>255</td>\n",
       "      <td>254</td>\n",
       "      <td>0</td>\n",
       "    </tr>\n",
       "    <tr>\n",
       "      <th>3928</th>\n",
       "      <td>12</td>\n",
       "      <td>4</td>\n",
       "      <td>255</td>\n",
       "      <td>255</td>\n",
       "      <td>254</td>\n",
       "      <td>0</td>\n",
       "    </tr>\n",
       "    <tr>\n",
       "      <th>4277</th>\n",
       "      <td>13</td>\n",
       "      <td>26</td>\n",
       "      <td>255</td>\n",
       "      <td>85</td>\n",
       "      <td>46</td>\n",
       "      <td>0</td>\n",
       "    </tr>\n",
       "    <tr>\n",
       "      <th>4585</th>\n",
       "      <td>14</td>\n",
       "      <td>7</td>\n",
       "      <td>255</td>\n",
       "      <td>255</td>\n",
       "      <td>254</td>\n",
       "      <td>0</td>\n",
       "    </tr>\n",
       "    <tr>\n",
       "      <th>4913</th>\n",
       "      <td>15</td>\n",
       "      <td>8</td>\n",
       "      <td>255</td>\n",
       "      <td>255</td>\n",
       "      <td>254</td>\n",
       "      <td>0</td>\n",
       "    </tr>\n",
       "    <tr>\n",
       "      <th>5235</th>\n",
       "      <td>16</td>\n",
       "      <td>3</td>\n",
       "      <td>255</td>\n",
       "      <td>255</td>\n",
       "      <td>254</td>\n",
       "      <td>0</td>\n",
       "    </tr>\n",
       "    <tr>\n",
       "      <th>5562</th>\n",
       "      <td>17</td>\n",
       "      <td>3</td>\n",
       "      <td>255</td>\n",
       "      <td>255</td>\n",
       "      <td>254</td>\n",
       "      <td>0</td>\n",
       "    </tr>\n",
       "    <tr>\n",
       "      <th>5890</th>\n",
       "      <td>18</td>\n",
       "      <td>4</td>\n",
       "      <td>255</td>\n",
       "      <td>255</td>\n",
       "      <td>254</td>\n",
       "      <td>0</td>\n",
       "    </tr>\n",
       "    <tr>\n",
       "      <th>6226</th>\n",
       "      <td>19</td>\n",
       "      <td>13</td>\n",
       "      <td>255</td>\n",
       "      <td>85</td>\n",
       "      <td>46</td>\n",
       "      <td>0</td>\n",
       "    </tr>\n",
       "    <tr>\n",
       "      <th>6566</th>\n",
       "      <td>20</td>\n",
       "      <td>26</td>\n",
       "      <td>255</td>\n",
       "      <td>85</td>\n",
       "      <td>46</td>\n",
       "      <td>0</td>\n",
       "    </tr>\n",
       "    <tr>\n",
       "      <th>6879</th>\n",
       "      <td>21</td>\n",
       "      <td>12</td>\n",
       "      <td>255</td>\n",
       "      <td>158</td>\n",
       "      <td>136</td>\n",
       "      <td>0</td>\n",
       "    </tr>\n",
       "    <tr>\n",
       "      <th>7198</th>\n",
       "      <td>22</td>\n",
       "      <td>4</td>\n",
       "      <td>255</td>\n",
       "      <td>255</td>\n",
       "      <td>254</td>\n",
       "      <td>0</td>\n",
       "    </tr>\n",
       "    <tr>\n",
       "      <th>7539</th>\n",
       "      <td>23</td>\n",
       "      <td>18</td>\n",
       "      <td>255</td>\n",
       "      <td>85</td>\n",
       "      <td>46</td>\n",
       "      <td>0</td>\n",
       "    </tr>\n",
       "    <tr>\n",
       "      <th>7866</th>\n",
       "      <td>24</td>\n",
       "      <td>18</td>\n",
       "      <td>255</td>\n",
       "      <td>85</td>\n",
       "      <td>46</td>\n",
       "      <td>0</td>\n",
       "    </tr>\n",
       "    <tr>\n",
       "      <th>8175</th>\n",
       "      <td>25</td>\n",
       "      <td>0</td>\n",
       "      <td>255</td>\n",
       "      <td>255</td>\n",
       "      <td>254</td>\n",
       "      <td>0</td>\n",
       "    </tr>\n",
       "    <tr>\n",
       "      <th>8508</th>\n",
       "      <td>26</td>\n",
       "      <td>6</td>\n",
       "      <td>255</td>\n",
       "      <td>255</td>\n",
       "      <td>254</td>\n",
       "      <td>0</td>\n",
       "    </tr>\n",
       "    <tr>\n",
       "      <th>8833</th>\n",
       "      <td>27</td>\n",
       "      <td>4</td>\n",
       "      <td>255</td>\n",
       "      <td>255</td>\n",
       "      <td>254</td>\n",
       "      <td>0</td>\n",
       "    </tr>\n",
       "  </tbody>\n",
       "</table>\n",
       "</div>"
      ],
      "text/plain": [
       "       x   y    r    g    b  mod2\n",
       "24     0  24  255  255  254     0\n",
       "341    1  14  255  255  254     0\n",
       "674    2  20  255  255  254     0\n",
       "1007   3  26  255  255  254     0\n",
       "1313   4   5  255  255  254     0\n",
       "1649   5  14  255  255  254     0\n",
       "1982   6  20  255  255  254     0\n",
       "2302   7  13  255  255  254     0\n",
       "2619   8   3  255  255  254     0\n",
       "2969   9  26  255  255  254     0\n",
       "3289  10  19  255  255  254     0\n",
       "3604  11   7  255  255  254     0\n",
       "3928  12   4  255  255  254     0\n",
       "4277  13  26  255   85   46     0\n",
       "4585  14   7  255  255  254     0\n",
       "4913  15   8  255  255  254     0\n",
       "5235  16   3  255  255  254     0\n",
       "5562  17   3  255  255  254     0\n",
       "5890  18   4  255  255  254     0\n",
       "6226  19  13  255   85   46     0\n",
       "6566  20  26  255   85   46     0\n",
       "6879  21  12  255  158  136     0\n",
       "7198  22   4  255  255  254     0\n",
       "7539  23  18  255   85   46     0\n",
       "7866  24  18  255   85   46     0\n",
       "8175  25   0  255  255  254     0\n",
       "8508  26   6  255  255  254     0\n",
       "8833  27   4  255  255  254     0"
      ]
     },
     "execution_count": 53,
     "metadata": {},
     "output_type": "execute_result"
    }
   ],
   "source": [
    "# Filter your DataFrame to contain ONLY even-valued blue pixels:\n",
    "df = df[df['mod2'] == 0]\n",
    "df"
   ]
  },
  {
   "cell_type": "code",
   "execution_count": 54,
   "metadata": {},
   "outputs": [
    {
     "name": "stdout",
     "output_type": "stream",
     "text": [
      "🎉 All Tests Passed! 🎉\n"
     ]
    }
   ],
   "source": [
    "### TEST CASE for Part 1: Filter your DataFrame to contain ONLY even-valued blue pixels\n",
    "tada = \"\\N{PARTY POPPER}\"\n",
    "assert(\"mod2\" in df), \"You must have the column `mod2` in your DataFrame\"\n",
    "assert(sum(df.mod2) == 0), \"You should have no odd-valued blue pixels\"\n",
    "assert(len(df) == 28), \"You should have only 28 pixels\"\n",
    "\n",
    "# ...and copy the DataFrame to avoid warnings about the slice:\n",
    "df = df.copy()\n",
    "\n",
    "print(f\"{tada} All Tests Passed! {tada}\")"
   ]
  },
  {
   "cell_type": "markdown",
   "metadata": {},
   "source": [
    "<hr style=\"color: #DD3403;\">"
   ]
  },
  {
   "cell_type": "markdown",
   "metadata": {},
   "source": [
    "## Part 2: Uncovering the Hidden Message\n",
    "\n",
    "You now have a DataFrame where you have found **exactly one row for every column** and that row tells us the letter in our hidden message.  Let's now decode the message!"
   ]
  },
  {
   "cell_type": "markdown",
   "metadata": {},
   "source": [
    "### Creating a Character from a Number\n",
    "\n",
    "In Python, the `chr` function will translate a UTF-8 character code into a letter.  The UTF-8 is an international standard and defines the translation from binary data into letters.  For example, UTF-8 defines that the letter `\"A\"` is encoded by the number `65`, `\"B\"` is encoded by the number `66`, and so on.\n",
    "\n",
    "We can see this in action by running the following cells:"
   ]
  },
  {
   "cell_type": "code",
   "execution_count": 55,
   "metadata": {},
   "outputs": [
    {
     "data": {
      "text/plain": [
       "'A'"
      ]
     },
     "execution_count": 55,
     "metadata": {},
     "output_type": "execute_result"
    }
   ],
   "source": [
    "chr(65)"
   ]
  },
  {
   "cell_type": "code",
   "execution_count": 56,
   "metadata": {},
   "outputs": [
    {
     "data": {
      "text/plain": [
       "'W'"
      ]
     },
     "execution_count": 56,
     "metadata": {},
     "output_type": "execute_result"
    }
   ],
   "source": [
    "chr(87)"
   ]
  },
  {
   "cell_type": "markdown",
   "metadata": {},
   "source": [
    "Let's use the fact this is already built into Python (and all other programming languages) to do the work for us!  To set up for using the `chr` function, add a new column to your DataFrame called `charCode`.\n",
    "\n",
    "The `charCode` column can simply add `65` to the `y` value of each row so that `y=0` has a `charCode` of `65`, `y=1` has a `charCode` of `66`, and so on.  Create this new column below:"
   ]
  },
  {
   "cell_type": "code",
   "execution_count": 57,
   "metadata": {},
   "outputs": [
    {
     "data": {
      "text/plain": [
       "24      89\n",
       "341     79\n",
       "674     85\n",
       "1007    91\n",
       "1313    70\n",
       "1649    79\n",
       "1982    85\n",
       "2302    78\n",
       "2619    68\n",
       "2969    91\n",
       "3289    84\n",
       "3604    72\n",
       "3928    69\n",
       "4277    91\n",
       "4585    72\n",
       "4913    73\n",
       "5235    68\n",
       "5562    68\n",
       "5890    69\n",
       "6226    78\n",
       "6566    91\n",
       "6879    77\n",
       "7198    69\n",
       "7539    83\n",
       "7866    83\n",
       "8175    65\n",
       "8508    71\n",
       "8833    69\n",
       "Name: charCode, dtype: int64"
      ]
     },
     "execution_count": 57,
     "metadata": {},
     "output_type": "execute_result"
    }
   ],
   "source": [
    "# Add the column \"charCode\":\n",
    "df[\"charCode\"]=df[\"y\"]+65\n",
    "df[\"charCode\"]"
   ]
  },
  {
   "cell_type": "code",
   "execution_count": 58,
   "metadata": {},
   "outputs": [
    {
     "name": "stdout",
     "output_type": "stream",
     "text": [
      "🎉 All Tests Passed! 🎉\n"
     ]
    }
   ],
   "source": [
    "### TEST CASE for Part 2: Creating a Character from a Number\n",
    "tada = \"\\N{PARTY POPPER}\"\n",
    "assert(\"charCode\" in df), \"You must have the column `charCode` in your DataFrame\"\n",
    "assert(min(df.charCode) == 65), \"The smallest charCode value must be 65 (you have a smaller value in your DataFrame)\"\n",
    "assert(max(df.charCode) == 91), \"The largest charCode value must be 91 (you have a larger value in your DataFrame)\"\n",
    "print(f\"{tada} All Tests Passed! {tada}\")"
   ]
  },
  {
   "cell_type": "markdown",
   "metadata": {},
   "source": [
    "### Apply the `chr` Function to Every Row\n",
    "\n",
    "Occasionally, we will need to interface between standard Python and DataFrames.  The `chr` function is an Python function, and not a DataFrame operation, so we will need to \"apply\" this function to our DataFrame.\n",
    "\n",
    "To do this, we can use the DataFrame `apply` operation to apply a function to every row.  To use the `chr` function on every value in the `charCode` column, the following syntax will do exactly that:\n",
    "\n",
    "> ```py\n",
    "> # Run the `chr` function for each row, using the value stored in the column `charCode`:\n",
    "> df[\"charCode\"].apply(chr)\n",
    "> ```\n",
    "\n",
    "Store the result of the code above in a new column called `character`:"
   ]
  },
  {
   "cell_type": "code",
   "execution_count": 59,
   "metadata": {},
   "outputs": [
    {
     "data": {
      "text/html": [
       "<div>\n",
       "<style scoped>\n",
       "    .dataframe tbody tr th:only-of-type {\n",
       "        vertical-align: middle;\n",
       "    }\n",
       "\n",
       "    .dataframe tbody tr th {\n",
       "        vertical-align: top;\n",
       "    }\n",
       "\n",
       "    .dataframe thead th {\n",
       "        text-align: right;\n",
       "    }\n",
       "</style>\n",
       "<table border=\"1\" class=\"dataframe\">\n",
       "  <thead>\n",
       "    <tr style=\"text-align: right;\">\n",
       "      <th></th>\n",
       "      <th>x</th>\n",
       "      <th>y</th>\n",
       "      <th>r</th>\n",
       "      <th>g</th>\n",
       "      <th>b</th>\n",
       "      <th>mod2</th>\n",
       "      <th>charCode</th>\n",
       "      <th>character</th>\n",
       "    </tr>\n",
       "  </thead>\n",
       "  <tbody>\n",
       "    <tr>\n",
       "      <th>24</th>\n",
       "      <td>0</td>\n",
       "      <td>24</td>\n",
       "      <td>255</td>\n",
       "      <td>255</td>\n",
       "      <td>254</td>\n",
       "      <td>0</td>\n",
       "      <td>89</td>\n",
       "      <td>Y</td>\n",
       "    </tr>\n",
       "    <tr>\n",
       "      <th>341</th>\n",
       "      <td>1</td>\n",
       "      <td>14</td>\n",
       "      <td>255</td>\n",
       "      <td>255</td>\n",
       "      <td>254</td>\n",
       "      <td>0</td>\n",
       "      <td>79</td>\n",
       "      <td>O</td>\n",
       "    </tr>\n",
       "    <tr>\n",
       "      <th>674</th>\n",
       "      <td>2</td>\n",
       "      <td>20</td>\n",
       "      <td>255</td>\n",
       "      <td>255</td>\n",
       "      <td>254</td>\n",
       "      <td>0</td>\n",
       "      <td>85</td>\n",
       "      <td>U</td>\n",
       "    </tr>\n",
       "    <tr>\n",
       "      <th>1007</th>\n",
       "      <td>3</td>\n",
       "      <td>26</td>\n",
       "      <td>255</td>\n",
       "      <td>255</td>\n",
       "      <td>254</td>\n",
       "      <td>0</td>\n",
       "      <td>91</td>\n",
       "      <td>[</td>\n",
       "    </tr>\n",
       "    <tr>\n",
       "      <th>1313</th>\n",
       "      <td>4</td>\n",
       "      <td>5</td>\n",
       "      <td>255</td>\n",
       "      <td>255</td>\n",
       "      <td>254</td>\n",
       "      <td>0</td>\n",
       "      <td>70</td>\n",
       "      <td>F</td>\n",
       "    </tr>\n",
       "    <tr>\n",
       "      <th>1649</th>\n",
       "      <td>5</td>\n",
       "      <td>14</td>\n",
       "      <td>255</td>\n",
       "      <td>255</td>\n",
       "      <td>254</td>\n",
       "      <td>0</td>\n",
       "      <td>79</td>\n",
       "      <td>O</td>\n",
       "    </tr>\n",
       "    <tr>\n",
       "      <th>1982</th>\n",
       "      <td>6</td>\n",
       "      <td>20</td>\n",
       "      <td>255</td>\n",
       "      <td>255</td>\n",
       "      <td>254</td>\n",
       "      <td>0</td>\n",
       "      <td>85</td>\n",
       "      <td>U</td>\n",
       "    </tr>\n",
       "    <tr>\n",
       "      <th>2302</th>\n",
       "      <td>7</td>\n",
       "      <td>13</td>\n",
       "      <td>255</td>\n",
       "      <td>255</td>\n",
       "      <td>254</td>\n",
       "      <td>0</td>\n",
       "      <td>78</td>\n",
       "      <td>N</td>\n",
       "    </tr>\n",
       "    <tr>\n",
       "      <th>2619</th>\n",
       "      <td>8</td>\n",
       "      <td>3</td>\n",
       "      <td>255</td>\n",
       "      <td>255</td>\n",
       "      <td>254</td>\n",
       "      <td>0</td>\n",
       "      <td>68</td>\n",
       "      <td>D</td>\n",
       "    </tr>\n",
       "    <tr>\n",
       "      <th>2969</th>\n",
       "      <td>9</td>\n",
       "      <td>26</td>\n",
       "      <td>255</td>\n",
       "      <td>255</td>\n",
       "      <td>254</td>\n",
       "      <td>0</td>\n",
       "      <td>91</td>\n",
       "      <td>[</td>\n",
       "    </tr>\n",
       "    <tr>\n",
       "      <th>3289</th>\n",
       "      <td>10</td>\n",
       "      <td>19</td>\n",
       "      <td>255</td>\n",
       "      <td>255</td>\n",
       "      <td>254</td>\n",
       "      <td>0</td>\n",
       "      <td>84</td>\n",
       "      <td>T</td>\n",
       "    </tr>\n",
       "    <tr>\n",
       "      <th>3604</th>\n",
       "      <td>11</td>\n",
       "      <td>7</td>\n",
       "      <td>255</td>\n",
       "      <td>255</td>\n",
       "      <td>254</td>\n",
       "      <td>0</td>\n",
       "      <td>72</td>\n",
       "      <td>H</td>\n",
       "    </tr>\n",
       "    <tr>\n",
       "      <th>3928</th>\n",
       "      <td>12</td>\n",
       "      <td>4</td>\n",
       "      <td>255</td>\n",
       "      <td>255</td>\n",
       "      <td>254</td>\n",
       "      <td>0</td>\n",
       "      <td>69</td>\n",
       "      <td>E</td>\n",
       "    </tr>\n",
       "    <tr>\n",
       "      <th>4277</th>\n",
       "      <td>13</td>\n",
       "      <td>26</td>\n",
       "      <td>255</td>\n",
       "      <td>85</td>\n",
       "      <td>46</td>\n",
       "      <td>0</td>\n",
       "      <td>91</td>\n",
       "      <td>[</td>\n",
       "    </tr>\n",
       "    <tr>\n",
       "      <th>4585</th>\n",
       "      <td>14</td>\n",
       "      <td>7</td>\n",
       "      <td>255</td>\n",
       "      <td>255</td>\n",
       "      <td>254</td>\n",
       "      <td>0</td>\n",
       "      <td>72</td>\n",
       "      <td>H</td>\n",
       "    </tr>\n",
       "    <tr>\n",
       "      <th>4913</th>\n",
       "      <td>15</td>\n",
       "      <td>8</td>\n",
       "      <td>255</td>\n",
       "      <td>255</td>\n",
       "      <td>254</td>\n",
       "      <td>0</td>\n",
       "      <td>73</td>\n",
       "      <td>I</td>\n",
       "    </tr>\n",
       "    <tr>\n",
       "      <th>5235</th>\n",
       "      <td>16</td>\n",
       "      <td>3</td>\n",
       "      <td>255</td>\n",
       "      <td>255</td>\n",
       "      <td>254</td>\n",
       "      <td>0</td>\n",
       "      <td>68</td>\n",
       "      <td>D</td>\n",
       "    </tr>\n",
       "    <tr>\n",
       "      <th>5562</th>\n",
       "      <td>17</td>\n",
       "      <td>3</td>\n",
       "      <td>255</td>\n",
       "      <td>255</td>\n",
       "      <td>254</td>\n",
       "      <td>0</td>\n",
       "      <td>68</td>\n",
       "      <td>D</td>\n",
       "    </tr>\n",
       "    <tr>\n",
       "      <th>5890</th>\n",
       "      <td>18</td>\n",
       "      <td>4</td>\n",
       "      <td>255</td>\n",
       "      <td>255</td>\n",
       "      <td>254</td>\n",
       "      <td>0</td>\n",
       "      <td>69</td>\n",
       "      <td>E</td>\n",
       "    </tr>\n",
       "    <tr>\n",
       "      <th>6226</th>\n",
       "      <td>19</td>\n",
       "      <td>13</td>\n",
       "      <td>255</td>\n",
       "      <td>85</td>\n",
       "      <td>46</td>\n",
       "      <td>0</td>\n",
       "      <td>78</td>\n",
       "      <td>N</td>\n",
       "    </tr>\n",
       "    <tr>\n",
       "      <th>6566</th>\n",
       "      <td>20</td>\n",
       "      <td>26</td>\n",
       "      <td>255</td>\n",
       "      <td>85</td>\n",
       "      <td>46</td>\n",
       "      <td>0</td>\n",
       "      <td>91</td>\n",
       "      <td>[</td>\n",
       "    </tr>\n",
       "    <tr>\n",
       "      <th>6879</th>\n",
       "      <td>21</td>\n",
       "      <td>12</td>\n",
       "      <td>255</td>\n",
       "      <td>158</td>\n",
       "      <td>136</td>\n",
       "      <td>0</td>\n",
       "      <td>77</td>\n",
       "      <td>M</td>\n",
       "    </tr>\n",
       "    <tr>\n",
       "      <th>7198</th>\n",
       "      <td>22</td>\n",
       "      <td>4</td>\n",
       "      <td>255</td>\n",
       "      <td>255</td>\n",
       "      <td>254</td>\n",
       "      <td>0</td>\n",
       "      <td>69</td>\n",
       "      <td>E</td>\n",
       "    </tr>\n",
       "    <tr>\n",
       "      <th>7539</th>\n",
       "      <td>23</td>\n",
       "      <td>18</td>\n",
       "      <td>255</td>\n",
       "      <td>85</td>\n",
       "      <td>46</td>\n",
       "      <td>0</td>\n",
       "      <td>83</td>\n",
       "      <td>S</td>\n",
       "    </tr>\n",
       "    <tr>\n",
       "      <th>7866</th>\n",
       "      <td>24</td>\n",
       "      <td>18</td>\n",
       "      <td>255</td>\n",
       "      <td>85</td>\n",
       "      <td>46</td>\n",
       "      <td>0</td>\n",
       "      <td>83</td>\n",
       "      <td>S</td>\n",
       "    </tr>\n",
       "    <tr>\n",
       "      <th>8175</th>\n",
       "      <td>25</td>\n",
       "      <td>0</td>\n",
       "      <td>255</td>\n",
       "      <td>255</td>\n",
       "      <td>254</td>\n",
       "      <td>0</td>\n",
       "      <td>65</td>\n",
       "      <td>A</td>\n",
       "    </tr>\n",
       "    <tr>\n",
       "      <th>8508</th>\n",
       "      <td>26</td>\n",
       "      <td>6</td>\n",
       "      <td>255</td>\n",
       "      <td>255</td>\n",
       "      <td>254</td>\n",
       "      <td>0</td>\n",
       "      <td>71</td>\n",
       "      <td>G</td>\n",
       "    </tr>\n",
       "    <tr>\n",
       "      <th>8833</th>\n",
       "      <td>27</td>\n",
       "      <td>4</td>\n",
       "      <td>255</td>\n",
       "      <td>255</td>\n",
       "      <td>254</td>\n",
       "      <td>0</td>\n",
       "      <td>69</td>\n",
       "      <td>E</td>\n",
       "    </tr>\n",
       "  </tbody>\n",
       "</table>\n",
       "</div>"
      ],
      "text/plain": [
       "       x   y    r    g    b  mod2  charCode character\n",
       "24     0  24  255  255  254     0        89         Y\n",
       "341    1  14  255  255  254     0        79         O\n",
       "674    2  20  255  255  254     0        85         U\n",
       "1007   3  26  255  255  254     0        91         [\n",
       "1313   4   5  255  255  254     0        70         F\n",
       "1649   5  14  255  255  254     0        79         O\n",
       "1982   6  20  255  255  254     0        85         U\n",
       "2302   7  13  255  255  254     0        78         N\n",
       "2619   8   3  255  255  254     0        68         D\n",
       "2969   9  26  255  255  254     0        91         [\n",
       "3289  10  19  255  255  254     0        84         T\n",
       "3604  11   7  255  255  254     0        72         H\n",
       "3928  12   4  255  255  254     0        69         E\n",
       "4277  13  26  255   85   46     0        91         [\n",
       "4585  14   7  255  255  254     0        72         H\n",
       "4913  15   8  255  255  254     0        73         I\n",
       "5235  16   3  255  255  254     0        68         D\n",
       "5562  17   3  255  255  254     0        68         D\n",
       "5890  18   4  255  255  254     0        69         E\n",
       "6226  19  13  255   85   46     0        78         N\n",
       "6566  20  26  255   85   46     0        91         [\n",
       "6879  21  12  255  158  136     0        77         M\n",
       "7198  22   4  255  255  254     0        69         E\n",
       "7539  23  18  255   85   46     0        83         S\n",
       "7866  24  18  255   85   46     0        83         S\n",
       "8175  25   0  255  255  254     0        65         A\n",
       "8508  26   6  255  255  254     0        71         G\n",
       "8833  27   4  255  255  254     0        69         E"
      ]
     },
     "execution_count": 59,
     "metadata": {},
     "output_type": "execute_result"
    }
   ],
   "source": [
    "# Create a new column `character` by using the apply function:\n",
    "df[\"character\"] = df[\"charCode\"].apply(chr)\n",
    "\n",
    "df"
   ]
  },
  {
   "cell_type": "code",
   "execution_count": 60,
   "metadata": {},
   "outputs": [
    {
     "name": "stdout",
     "output_type": "stream",
     "text": [
      "🎉 All Tests Passed! 🎉\n"
     ]
    }
   ],
   "source": [
    "### TEST CASE for Part 2: Applying the chr Function\n",
    "tada = \"\\N{PARTY POPPER}\"\n",
    "assert(\"character\" in df), \"You must have the column `character` in your DataFrame\"\n",
    "assert(len(df[df.character == \"A\"] == 1)), \"Your character translation is incorrect\"\n",
    "assert(len(df[df.character == \"E\"] == 4)), \"Your character translation is incorrect\"\n",
    "assert(len(df[df.character == \"S\"] == 2)), \"Your character translation is incorrect\"\n",
    "\n",
    "print(f\"{tada} All Tests Passed! {tada}\")"
   ]
  },
  {
   "cell_type": "markdown",
   "metadata": {},
   "source": [
    "### Concatenate the Entire String\n",
    "\n",
    "We're almost done!!  If you look at your DataFrame, and read down the `character` column, you will see the hidden message -- but we can do better -- we want to combine everything together into one string!\n",
    "\n",
    "To combine all string columns together across an entire DataFrame, the `str.cat()` function will **concatenate** all the strings together into one large string.  For example:\n",
    "\n",
    "> ```py\n",
    "> message = df.columnName.str.cat()\n",
    "> message    # combines all `columnName` strings together across the full DataFrame\n",
    "> ```\n",
    "\n",
    "Create a variable `message` that combines all of the `character`s together across the full DataFrame:"
   ]
  },
  {
   "cell_type": "code",
   "execution_count": 61,
   "metadata": {},
   "outputs": [
    {
     "data": {
      "text/plain": [
       "'YOU[FOUND[THE[HIDDEN[MESSAGE'"
      ]
     },
     "execution_count": 61,
     "metadata": {},
     "output_type": "execute_result"
    }
   ],
   "source": [
    "message = df[\"character\"].str.cat()\n",
    "message"
   ]
  },
  {
   "cell_type": "markdown",
   "metadata": {},
   "source": [
    "### Fix the Spaces\n"
   ]
  },
  {
   "cell_type": "markdown",
   "metadata": {},
   "source": [
    "Oh no, you may have saw this coming!  There space character is not correct -- it looks like it was mapped to the wrong character!\n",
    "\n",
    "Use `message.replace(\"[\", \" \")` to replace all `\"[\"` characters with a space `\" \"` character:"
   ]
  },
  {
   "cell_type": "code",
   "execution_count": 62,
   "metadata": {},
   "outputs": [
    {
     "data": {
      "text/plain": [
       "'YOU FOUND THE HIDDEN MESSAGE'"
      ]
     },
     "execution_count": 62,
     "metadata": {},
     "output_type": "execute_result"
    }
   ],
   "source": [
    "# Fix the spaces in our string:\n",
    "message = message.replace(\"[\", \" \")\n",
    "message"
   ]
  },
  {
   "cell_type": "code",
   "execution_count": 63,
   "metadata": {},
   "outputs": [
    {
     "name": "stdout",
     "output_type": "stream",
     "text": [
      "🎉 All Tests Passed! 🎉\n"
     ]
    }
   ],
   "source": [
    "### TEST CASE for Part 2: Concatenate the Entire String and Fix the Spaces\n",
    "tada = \"\\N{PARTY POPPER}\"\n",
    "assert(\"message\" in vars()), \"You must define the variable `message`\"\n",
    "assert(len(message) == 28), \"Your message must be 28 characters long\"\n",
    "assert(message[1] + message[5] + message[21] == \"OOM\"), \"Your message appears incorrect\"\n",
    "assert(message[3] == \" \"), \"Your message must have spaces for spaces (not '[')\"\n",
    "print(f\"{tada} All Tests Passed! {tada}\")\n"
   ]
  },
  {
   "cell_type": "markdown",
   "metadata": {},
   "source": [
    "<hr style=\"color: #DD3403;\">"
   ]
  },
  {
   "cell_type": "markdown",
   "metadata": {},
   "source": [
    "## Part 3: Make a Reuseable Function\n",
    "\n",
    "Often, programmers will do a task once to understand it and then combine the steps together into a function that can be used with different inputs.\n",
    "\n",
    "Complete the following function, `decodeHiddenMessage`, that takes in a filename (like `i.png`) and returns the hidden message contained within in.  *(This function should simply combine all the steps in the previous parts into a single function, but with the provided file name `fileName` instead of `i.png`.*)"
   ]
  },
  {
   "cell_type": "code",
   "execution_count": 64,
   "metadata": {},
   "outputs": [],
   "source": [
    "def decodeHiddenMessage(fileName):\n",
    "  df=DISCOVERY.df_image(fileName)\n",
    "  df = df[(df['y']>= 0)&(df['y']<= 26)]\n",
    "  df['mod2']= df['b']%2\n",
    "  df= df[df['mod2'] == 0].copy()\n",
    "  df['charCode']= df['y']+ 65\n",
    "  df['character']= df['charCode'].apply(chr)\n",
    "  message = df['character'].str.cat()\n",
    "  message = message.replace(\"[\",\" \")\n",
    "  return message"
   ]
  },
  {
   "cell_type": "markdown",
   "metadata": {},
   "source": [
    "Let's first make sure your function work with the same input we've worked with already:"
   ]
  },
  {
   "cell_type": "code",
   "execution_count": 65,
   "metadata": {},
   "outputs": [
    {
     "data": {
      "text/plain": [
       "'YOU FOUND THE HIDDEN MESSAGE'"
      ]
     },
     "execution_count": 65,
     "metadata": {},
     "output_type": "execute_result"
    }
   ],
   "source": [
    "decodeHiddenMessage(\"i.png\")"
   ]
  },
  {
   "cell_type": "code",
   "execution_count": 66,
   "metadata": {},
   "outputs": [
    {
     "name": "stdout",
     "output_type": "stream",
     "text": [
      "🎉 All Tests Passed! 🎉\n"
     ]
    }
   ],
   "source": [
    "### TEST CASE for Part 3: Reuseable Function\n",
    "\n",
    "tada = \"\\N{PARTY POPPER}\"\n",
    "assert(\"decodeHiddenMessage\" in vars()), \"You must define the function `decodeHiddenMessage`\"\n",
    "__test_msg = decodeHiddenMessage(\"i.png\")\n",
    "assert(len(__test_msg) == 28), \"Your message must be 28 characters long\"\n",
    "assert(__test_msg[1] + __test_msg[5] + __test_msg[21] == \"OOM\"), \"Your message appears incorrect\"\n",
    "\n",
    "__test_msg = decodeHiddenMessage(\"discovery.png\")\n",
    "assert(len(__test_msg) == 127), \"Your message must be 127 characters long\"\n",
    "assert(__test_msg[1] + __test_msg[5] + __test_msg[21] == \"HEU\"), \"Your message appears incorrect\"\n",
    "\n",
    "print(f\"{tada} All Tests Passed! {tada}\")"
   ]
  },
  {
   "cell_type": "markdown",
   "metadata": {},
   "source": [
    "<hr style=\"color: #DD3403;\">\n",
    "\n",
    "## Part 4: My Hidden Message for You"
   ]
  },
  {
   "cell_type": "markdown",
   "metadata": {},
   "source": [
    "I've hidden a few more messages for you!  Let's use the function you created to decode it:"
   ]
  },
  {
   "cell_type": "code",
   "execution_count": 67,
   "metadata": {},
   "outputs": [
    {
     "data": {
      "text/plain": [
       "'THE NEXT IMAGE FOR YOU IS ON DISCORD  FIND IT IN THE DISCORD CHANNEL FOR THIS MICROPROJECT  YOU WILL DEFINITELY WANT TO DO THIS'"
      ]
     },
     "execution_count": 67,
     "metadata": {},
     "output_type": "execute_result"
    }
   ],
   "source": [
    "decodeHiddenMessage(\"discovery.png\")"
   ]
  },
  {
   "cell_type": "markdown",
   "metadata": {},
   "source": [
    "You can now use this cell for any other file if you want:"
   ]
  },
  {
   "cell_type": "code",
   "execution_count": 0,
   "metadata": {},
   "outputs": [],
   "source": []
  },
  {
   "cell_type": "markdown",
   "metadata": {},
   "source": [
    "We can use this idea to hide messages all over in plain sight!  Who knows where else you might find hidden messages in images! :)"
   ]
  },
  {
   "cell_type": "markdown",
   "metadata": {},
   "source": [
    "<hr style=\"color: #DD3403;\">"
   ]
  },
  {
   "cell_type": "markdown",
   "metadata": {},
   "source": [
    "## Submission\n",
    "\n",
    "You're almost done!  All you need to do is to commit your lab to GitHub and run the GitHub Actions Grader:\n",
    "\n",
    "1.  ⚠️ **Make certain to save your work.** ⚠️ To do this, go to **File => Save All**\n",
    "\n",
    "2.  After you have saved, exit this notebook and return to https://discovery.cs.illinois.edu/microproject/image-steganography-with-dataframes/ and complete the section **\"Commit and Grade Your Notebook\"**.\n",
    "\n",
    "3. If you see a 100% grade result on your GitHub Action, you've completed this MicroProject! 🎉"
   ]
  }
 ],
 "metadata": {
  "kernelspec": {
   "display_name": "Python 3",
   "language": "python",
   "name": "python3"
  },
  "language_info": {
   "codemirror_mode": {
    "name": "ipython",
    "version": 3
   },
   "file_extension": ".py",
   "mimetype": "text/x-python",
   "name": "python",
   "nbconvert_exporter": "python",
   "pygments_lexer": "ipython3",
   "version": "3.12.9"
  }
 },
 "nbformat": 4,
 "nbformat_minor": 2
}
