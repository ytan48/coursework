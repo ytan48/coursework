{
 "cells": [
  {
   "cell_type": "markdown",
   "metadata": {},
   "source": [
    "<h1 style=\"text-align: center\">\n",
    "<div style=\"color: #DD3403; font-size: 60%\">Data Science DISCOVERY MicroProject</div>\n",
    "<span style=\"\">AI versus Human: AI Response Analysis</span>\n",
    "<div style=\"font-size: 60%;\"><a href=\"https://discovery.cs.illinois.edu/microproject/ai-vs-human-response-analysis/\">https://discovery.cs.illinois.edu/microproject/ai-vs-human-response-analysis/</a></div>\n",
    "</h1>\n",
    "\n",
    "<hr style=\"color: #DD3403;\">"
   ]
  },
  {
   "cell_type": "markdown",
   "metadata": {},
   "source": [
    "## Data Source: Hugging Face\n",
    "\n",
    "[Hugging Face](https://huggingface.co/) is a company that has developed a platform for natural language processing (NLP) applications. They have created and shared a large collection of pre-trained models, datasets, and learning resources which are open-source and available for the public to use.\n",
    "\n",
    "Hello-SimpleAI is a small group of researchers (PhD students and engineers) that released the [HC3 dataset](https://arxiv.org/abs/2301.07597). This dataset compares human and AI responses to the same question.\n",
    "\n",
    "They also have a public [API](https://huggingface.co/datasets/Hello-SimpleAI/HC3/viewer/all/train) that allows you to access the data with the requests library."
   ]
  },
  {
   "cell_type": "markdown",
   "metadata": {},
   "source": [
    "### Loading the Dataset\n",
    "\n",
    "For this MicroProject, we have provided the first 100 samples of the `Hello-SampleAI` dataset that was gathered from the following URL: https://datasets-server.huggingface.co/rows?dataset=Hello-SimpleAI%2FHC3&config=all&split=train&offset=0&length=100\n",
    "\n",
    "This data has been cleaned up and provided to you as `huggingface-hello-sampleAI-100.csv`.  This dataset has 100 `question`s each with a `human_answer` from a human and a `chatgpt_answer` from ChatGPT.\n",
    "\n",
    "Load this dataset as a DataFrame `df`:"
   ]
  },
  {
   "cell_type": "code",
   "execution_count": 397,
   "metadata": {},
   "outputs": [
    {
     "data": {
      "text/html": [
       "<div>\n",
       "<style scoped>\n",
       "    .dataframe tbody tr th:only-of-type {\n",
       "        vertical-align: middle;\n",
       "    }\n",
       "\n",
       "    .dataframe tbody tr th {\n",
       "        vertical-align: top;\n",
       "    }\n",
       "\n",
       "    .dataframe thead th {\n",
       "        text-align: right;\n",
       "    }\n",
       "</style>\n",
       "<table border=\"1\" class=\"dataframe\">\n",
       "  <thead>\n",
       "    <tr style=\"text-align: right;\">\n",
       "      <th></th>\n",
       "      <th>Unnamed: 0</th>\n",
       "      <th>question</th>\n",
       "      <th>human_answer</th>\n",
       "      <th>chatgpt_answer</th>\n",
       "    </tr>\n",
       "  </thead>\n",
       "  <tbody>\n",
       "    <tr>\n",
       "      <th>0</th>\n",
       "      <td>0</td>\n",
       "      <td>Why is every book I hear about a \" NY Times # ...</td>\n",
       "      <td>Basically there are many categories of \" Best ...</td>\n",
       "      <td>There are many different best seller lists tha...</td>\n",
       "    </tr>\n",
       "    <tr>\n",
       "      <th>1</th>\n",
       "      <td>1</td>\n",
       "      <td>If salt is so bad for cars , why do we use it ...</td>\n",
       "      <td>salt is good for not dying in car crashes and ...</td>\n",
       "      <td>Salt is used on roads to help melt ice and sno...</td>\n",
       "    </tr>\n",
       "    <tr>\n",
       "      <th>2</th>\n",
       "      <td>2</td>\n",
       "      <td>Why do we still have SD TV channels when HD lo...</td>\n",
       "      <td>The way it works is that old TV stations got a...</td>\n",
       "      <td>There are a few reasons why we still have SD (...</td>\n",
       "    </tr>\n",
       "    <tr>\n",
       "      <th>3</th>\n",
       "      <td>3</td>\n",
       "      <td>Why has nobody assassinated Kim Jong - un He i...</td>\n",
       "      <td>You ca n't just go around assassinating the le...</td>\n",
       "      <td>It is generally not acceptable or ethical to a...</td>\n",
       "    </tr>\n",
       "    <tr>\n",
       "      <th>4</th>\n",
       "      <td>4</td>\n",
       "      <td>How was airplane technology able to advance so...</td>\n",
       "      <td>Wanting to kill the shit out of Germans drives...</td>\n",
       "      <td>After the Wright Brothers made the first power...</td>\n",
       "    </tr>\n",
       "    <tr>\n",
       "      <th>...</th>\n",
       "      <td>...</td>\n",
       "      <td>...</td>\n",
       "      <td>...</td>\n",
       "      <td>...</td>\n",
       "    </tr>\n",
       "    <tr>\n",
       "      <th>95</th>\n",
       "      <td>95</td>\n",
       "      <td>How come the Constitution of the US is relevan...</td>\n",
       "      <td>The Constitution is the highest law of the lan...</td>\n",
       "      <td>The Constitution of the United States is the s...</td>\n",
       "    </tr>\n",
       "    <tr>\n",
       "      <th>96</th>\n",
       "      <td>96</td>\n",
       "      <td>Why does Valve have Greenlight would n't it ma...</td>\n",
       "      <td>Now , There are 2 problems with steam , and bo...</td>\n",
       "      <td>Valve, the company that developed the Steam pl...</td>\n",
       "    </tr>\n",
       "    <tr>\n",
       "      <th>97</th>\n",
       "      <td>97</td>\n",
       "      <td>why do people so commonly say SO instead of bo...</td>\n",
       "      <td>SO covers boyfriends , girlfriends , husbands ...</td>\n",
       "      <td>People might use the term \"SO\" instead of \"boy...</td>\n",
       "    </tr>\n",
       "    <tr>\n",
       "      <th>98</th>\n",
       "      <td>98</td>\n",
       "      <td>How do companies that buy &amp; re - sell other pe...</td>\n",
       "      <td>I get that they are \" bottom feeders \" but to ...</td>\n",
       "      <td>When a company or individual owes money to ano...</td>\n",
       "    </tr>\n",
       "    <tr>\n",
       "      <th>99</th>\n",
       "      <td>99</td>\n",
       "      <td>What is Heisenberg 's uncertainty principle in...</td>\n",
       "      <td>In the simplest terms , anything we do to try ...</td>\n",
       "      <td>Heisenberg's uncertainty principle is a fundam...</td>\n",
       "    </tr>\n",
       "  </tbody>\n",
       "</table>\n",
       "<p>100 rows × 4 columns</p>\n",
       "</div>"
      ],
      "text/plain": [
       "    Unnamed: 0                                           question  \\\n",
       "0            0  Why is every book I hear about a \" NY Times # ...   \n",
       "1            1  If salt is so bad for cars , why do we use it ...   \n",
       "2            2  Why do we still have SD TV channels when HD lo...   \n",
       "3            3  Why has nobody assassinated Kim Jong - un He i...   \n",
       "4            4  How was airplane technology able to advance so...   \n",
       "..         ...                                                ...   \n",
       "95          95  How come the Constitution of the US is relevan...   \n",
       "96          96  Why does Valve have Greenlight would n't it ma...   \n",
       "97          97  why do people so commonly say SO instead of bo...   \n",
       "98          98  How do companies that buy & re - sell other pe...   \n",
       "99          99  What is Heisenberg 's uncertainty principle in...   \n",
       "\n",
       "                                         human_answer  \\\n",
       "0   Basically there are many categories of \" Best ...   \n",
       "1   salt is good for not dying in car crashes and ...   \n",
       "2   The way it works is that old TV stations got a...   \n",
       "3   You ca n't just go around assassinating the le...   \n",
       "4   Wanting to kill the shit out of Germans drives...   \n",
       "..                                                ...   \n",
       "95  The Constitution is the highest law of the lan...   \n",
       "96  Now , There are 2 problems with steam , and bo...   \n",
       "97  SO covers boyfriends , girlfriends , husbands ...   \n",
       "98  I get that they are \" bottom feeders \" but to ...   \n",
       "99  In the simplest terms , anything we do to try ...   \n",
       "\n",
       "                                       chatgpt_answer  \n",
       "0   There are many different best seller lists tha...  \n",
       "1   Salt is used on roads to help melt ice and sno...  \n",
       "2   There are a few reasons why we still have SD (...  \n",
       "3   It is generally not acceptable or ethical to a...  \n",
       "4   After the Wright Brothers made the first power...  \n",
       "..                                                ...  \n",
       "95  The Constitution of the United States is the s...  \n",
       "96  Valve, the company that developed the Steam pl...  \n",
       "97  People might use the term \"SO\" instead of \"boy...  \n",
       "98  When a company or individual owes money to ano...  \n",
       "99  Heisenberg's uncertainty principle is a fundam...  \n",
       "\n",
       "[100 rows x 4 columns]"
      ]
     },
     "execution_count": 397,
     "metadata": {},
     "output_type": "execute_result"
    }
   ],
   "source": [
    "import pandas as pd\n",
    "df = pd.read_csv(\"huggingface-hello-sampleAI-100.csv\")\n",
    "df"
   ]
  },
  {
   "cell_type": "code",
   "execution_count": 398,
   "metadata": {},
   "outputs": [
    {
     "name": "stdout",
     "output_type": "stream",
     "text": [
      "🎉 All Tests Passed! 🎉\n"
     ]
    }
   ],
   "source": [
    "### TEST CASE for Data Import\n",
    "# - This read-only cell contains a \"checkpoint\" for this section of the MicroProejct and verifies you are on the right track.\n",
    "# - If this cell results in a celebration message, you PASSED all test cases!\n",
    "# - If this cell results in any errors, check you previous cells, make changes, and RE-RUN your code and then this cell.\n",
    "tada = \"\\N{PARTY POPPER}\"\n",
    "\n",
    "df = df.replace(r'\\r\\n', '\\n', regex=True)\n",
    "\n",
    "assert(\"df\" in vars())\n",
    "assert(len(df) == 100)\n",
    "assert(\"How come I have to pay for Foxtel and get ads , when things like youtube are free because they play ads . Should n't Foxtel be you pay and you do nt get ads , or it should be free and you get ads . Please explain like I'm five.\" in df[\"question\"].values)\n",
    "assert(\"It's important to remember that Japan is a country with a rich and diverse culture, and like any other country, it has a range of cultural practices and expressions. While it is true that Japan has a reputation for being a more traditional and conservative culture, it is also home to a vibrant and creative media industry. \\nThe Japanese media industry is known for producing a wide variety of content, including video games, TV shows, and music, that often incorporates elements of Japanese culture and history. This can include things like traditional Japanese instruments and themes, as well as more modern and unconventional elements. \\nIt's also worth noting that different parts of Japanese culture can have different levels of conservatism. For example, some aspects of Japanese culture, such as traditional family structure or gender roles, may be more conservative, while other parts of Japanese culture, such as the media industry, may be more open to experimentation and innovation. \\nOverall, it's important to remember that Japan is a complex and multifaceted culture, and it's not fair to generalize or stereotype all aspects of Japanese culture based on a few specific examples.\" in df[\"chatgpt_answer\"].values)\n",
    "print(f\"{tada} All Tests Passed! {tada}\")"
   ]
  },
  {
   "cell_type": "markdown",
   "metadata": {},
   "source": [
    "<hr style=\"color: #DD3403;\">"
   ]
  },
  {
   "cell_type": "markdown",
   "metadata": {},
   "source": [
    "## Part 1: Response Length Analysis\n",
    "\n",
    "One common critique of current AI systems are the answers are often excessively long.\n",
    "\n",
    "For the first analysis, let's compare the average length of the human response to the average length of an AI response and see if there's any statistical significance to the difference.  To start off add two new columns to the DataFrame that contain the length of each response."
   ]
  },
  {
   "cell_type": "markdown",
   "metadata": {},
   "source": [
    "### Puzzle 1.1: Getting the average length of the human and AI response"
   ]
  },
  {
   "cell_type": "markdown",
   "metadata": {},
   "source": [
    "When working with columns that contain `string` data, we can use the general syntax:\n",
    "\n",
    "> ```py\n",
    "> df[\"column\"].str.STRING_FUNCTION()\n",
    "> ```\n",
    "\n",
    "Where `STRING_FUNCTION()` is any of the [string accessor methods](https://pandas.pydata.org/docs/reference/series.html#api-series-str).  Specifically, one such method is:\n",
    "\n",
    "> ...\n",
    "> `Series.str.len()`: Compute the length of each element in the Series/Index.\n",
    "> ...\n",
    "\n",
    "To begin our analysis of the length of each response, add two new columns to the DataFrame:\n",
    "- `human_answer_len`, containing the length (in characters) of the human response\n",
    "- `chatgpt_answer_len`, containing the length (in characters) of the ChatGPT response"
   ]
  },
  {
   "cell_type": "code",
   "execution_count": 399,
   "metadata": {},
   "outputs": [],
   "source": [
    "df['human_answer_len'] = df['human_answer'].str.len()\n",
    "df['chatgpt_answer_len'] = df['chatgpt_answer'].str.len()"
   ]
  },
  {
   "cell_type": "markdown",
   "metadata": {},
   "source": [
    "### Puzzle 1.2: Compute the Average Answer Lengths\n",
    "\n",
    "Now that we have the lengths of our responses, save the average length of the responses in the variables `human_avg` and `ai_avg`:"
   ]
  },
  {
   "cell_type": "code",
   "execution_count": 400,
   "metadata": {},
   "outputs": [
    {
     "data": {
      "text/plain": [
       "np.float64(729.88)"
      ]
     },
     "execution_count": 400,
     "metadata": {},
     "output_type": "execute_result"
    }
   ],
   "source": [
    "# Average response length for a human response:\n",
    "human_avg = df['human_answer_len'].mean()\n",
    "human_avg"
   ]
  },
  {
   "cell_type": "code",
   "execution_count": 401,
   "metadata": {},
   "outputs": [
    {
     "data": {
      "text/plain": [
       "np.float64(1098.77)"
      ]
     },
     "execution_count": 401,
     "metadata": {},
     "output_type": "execute_result"
    }
   ],
   "source": [
    "# Average response length for a ChatGPT response:\n",
    "ai_avg = df['chatgpt_answer_len'].mean()\n",
    "ai_avg"
   ]
  },
  {
   "cell_type": "code",
   "execution_count": 402,
   "metadata": {},
   "outputs": [
    {
     "name": "stdout",
     "output_type": "stream",
     "text": [
      "🎉 All Tests Passed! 🎉\n"
     ]
    }
   ],
   "source": [
    "### TEST CASE for Puzzle 1: Response Length Analysis (Puzzles 1.1 and 1.2)\n",
    "tada = \"\\N{PARTY POPPER}\"\n",
    "assert(\"human_avg\" in vars())\n",
    "assert(\"ai_avg\" in vars())\n",
    "assert('human_answer_len' in df.columns)\n",
    "assert('chatgpt_answer_len' in df.columns)\n",
    "assert(876 in df[\"human_answer_len\"].values and 930 in df[\"chatgpt_answer_len\"].values)\n",
    "assert((human_avg * 390)/30 == 9488.44)\n",
    "assert(((ai_avg * 444)/30) + 86 == 16347.796)\n",
    "print(f\"{tada} All Tests Passed! {tada}\")"
   ]
  },
  {
   "cell_type": "markdown",
   "metadata": {},
   "source": [
    "### Puzzle 1.3: Testing if the difference in length is statistically significant"
   ]
  },
  {
   "cell_type": "markdown",
   "metadata": {},
   "source": [
    "To determine if the difference between the means is statistically significant, we're going to conduct a t-test. Let's first state our null and alternative hypotheses.\n",
    "\n",
    "> **Null hypothesis**: There is no significant difference between the means of the two response lengths.\n",
    "> \n",
    "> **Alternative hypothesis**: There is a significant difference between the means of the two response lengths."
   ]
  },
  {
   "cell_type": "markdown",
   "metadata": {},
   "source": [
    "Use the [`scipy.stats.ttest_ind`](https://docs.scipy.org/doc/scipy/reference/generated/scipy.stats.ttest_ind.html) function to get the t-stat (as `t_stat`) and p-value (as `p_value`).\n",
    "\n",
    "You can find the function documentation here: https://docs.scipy.org/doc/scipy/reference/generated/scipy.stats.ttest_ind.html"
   ]
  },
  {
   "cell_type": "code",
   "execution_count": 403,
   "metadata": {},
   "outputs": [],
   "source": [
    "from scipy.stats import ttest_ind\n",
    "human_lengths = df['human_answer_len'].dropna()\n",
    "chatgpt_lengths = df['chatgpt_answer_len'].dropna()\n",
    "# Compute a t-test:\n",
    "#    Syntax: t_stat, p_value = ttest_ind( ... )\n",
    "t_stat, p_value = ttest_ind(\n",
    "    human_lengths,\n",
    "    chatgpt_lengths,\n",
    "    )"
   ]
  },
  {
   "cell_type": "code",
   "execution_count": 404,
   "metadata": {},
   "outputs": [
    {
     "data": {
      "text/plain": [
       "np.float64(-3.2043931944794153)"
      ]
     },
     "execution_count": 404,
     "metadata": {},
     "output_type": "execute_result"
    }
   ],
   "source": [
    "# Display the t-statistic:\n",
    "t_stat"
   ]
  },
  {
   "cell_type": "code",
   "execution_count": 405,
   "metadata": {},
   "outputs": [
    {
     "data": {
      "text/plain": [
       "np.float64(0.0015776855917118066)"
      ]
     },
     "execution_count": 405,
     "metadata": {},
     "output_type": "execute_result"
    }
   ],
   "source": [
    "# Display the p-value:\n",
    "p_value"
   ]
  },
  {
   "cell_type": "markdown",
   "metadata": {},
   "source": [
    "### Puzzle 1.4: Choosing Your Conclusion\n",
    "\n",
    "Using the calculated p-value and an alpha level of 0.05, we can determine if there is a significant difference between the two mean values.\n",
    "\n",
    "Un-comment exactly one conclusion based on your observations."
   ]
  },
  {
   "cell_type": "code",
   "execution_count": 406,
   "metadata": {},
   "outputs": [],
   "source": [
    "# conclusion = \"The p-value is greater than .05 so there is a significant difference between the means of the two response lengths.\"\n",
    "# conclusion = \"The p-value is greater than .05 so there is no significant difference between the means of the two response lengths.\"\n",
    "conclusion = \"The p-value is less than .05 so there is a significant difference between the means of the two response lengths.\"\n",
    "# conclusion = \"The p-value is less than .05 so there is no significant difference between the means of the two response lengths.\""
   ]
  },
  {
   "cell_type": "code",
   "execution_count": 407,
   "metadata": {},
   "outputs": [
    {
     "name": "stdout",
     "output_type": "stream",
     "text": [
      "🎉 All Tests Passed! 🎉\n"
     ]
    }
   ],
   "source": [
    "### TEST CASE for Puzzle 1: Response Length Analysis (Puzzles 1.3 and 1.4)\n",
    "\n",
    "tada = \"\\N{PARTY POPPER}\"\n",
    "assert(\"t_stat\" in vars())\n",
    "assert(\"p_value\" in vars())\n",
    "\n",
    "import math\n",
    "assert( math.isclose(t_stat * p_value, -0.005055524973109543) ), \"Check your t_stat and p_value.\"\n",
    "\n",
    "assert(len(conclusion) == 112), \"Your conclusion is incorrect.\"\n",
    "assert(conclusion.count(\"a\") == 5), \"Your conclusion is incorrect.\"\n",
    "\n",
    "print(f\"{tada} All Tests Passed! {tada}\")"
   ]
  },
  {
   "cell_type": "markdown",
   "metadata": {},
   "source": [
    "<hr style=\"color: #DD3403;\">"
   ]
  },
  {
   "cell_type": "markdown",
   "metadata": {},
   "source": [
    "## Part 2: Sentiment Analysis - Polarity\n",
    "\n",
    "A second common critique of current AI systems are the answers are often more optimistic and/or subjective than a human.  One common technique in text processing is to analyze the \"polarity\" and \"subjectivity\" score of a piece of text.\n",
    "\n",
    "A \"polarity score\" ranges from -1 to 1, where -1 is very negative, 0 is neutral, and 1 is very positive.\n",
    "\n",
    "A \"subjectivity score\" ranges from 0 to 1, where 0 is not a subjective statement and 1 is a very subjective statement."
   ]
  },
  {
   "cell_type": "markdown",
   "metadata": {},
   "source": [
    "### Puzzle 2.1: Find the Polarity"
   ]
  },
  {
   "cell_type": "markdown",
   "metadata": {},
   "source": [
    "To find our polarity score, lets use the TextBlob library, to calculate a polarity and subjectivity score for each response. TextBlob is a Python library for processing textual data. It provides a simple API for diving into common natural language processing (NLP) tasks such as part-of-speech tagging, noun phrase extraction, sentiment analysis, classification, translation, and more. \n",
    "\n",
    "\n",
    "Start off by installing this library.\n",
    "\n",
    "In the terminal, type the following: `python3 -m pip install textblob`\n",
    "\n",
    "- If this command does not work, try the others `pip install` commands listed [here](https://discovery.cs.illinois.edu/guides/System-Setup/Setup-Your-System/#Step-4-Installing-pandas), replacing `pandas` with `textblob`.\n",
    "\n",
    "Once it is installed, import the `TextBlob` library with the following import statement:"
   ]
  },
  {
   "cell_type": "code",
   "execution_count": 408,
   "metadata": {},
   "outputs": [],
   "source": [
    "from textblob import TextBlob"
   ]
  },
  {
   "cell_type": "markdown",
   "metadata": {},
   "source": [
    "The polarity score from TextBlob ranges from -1 to 1, where -1 is very negative, 0 is neutral, and 1 is very positive. Scroll to the \"Sentiment Analysis\" portion of the [TextBlob Tutorial: Quickstart](https://textblob.readthedocs.io/en/dev/quickstart.html).\n",
    "\n",
    "Once you understand how to get the polarity of a string using the library, complete the function `polarity` below that takes a string `s` as input and returns the `polarity` score:"
   ]
  },
  {
   "cell_type": "code",
   "execution_count": 409,
   "metadata": {},
   "outputs": [],
   "source": [
    "def polarity(s):\n",
    "  blob = TextBlob(s)\n",
    "  return blob.sentiment.polarity\n"
   ]
  },
  {
   "cell_type": "markdown",
   "metadata": {},
   "source": [
    "Let's test your function to make sure it's working:"
   ]
  },
  {
   "cell_type": "code",
   "execution_count": 410,
   "metadata": {},
   "outputs": [
    {
     "data": {
      "text/plain": [
       "0.39166666666666666"
      ]
     },
     "execution_count": 410,
     "metadata": {},
     "output_type": "execute_result"
    }
   ],
   "source": [
    "# From the documentation, we expect a positive (above zero) polarity:\n",
    "polarity(\"Textblob is amazingly simple to use. What great fun!\")"
   ]
  },
  {
   "cell_type": "code",
   "execution_count": 411,
   "metadata": {},
   "outputs": [
    {
     "data": {
      "text/plain": [
       "-0.25"
      ]
     },
     "execution_count": 411,
     "metadata": {},
     "output_type": "execute_result"
    }
   ],
   "source": [
    "# A negative statement, we expect a negative (below zero) polarity:\n",
    "polarity(\"You will fail DISCOVERY if you do not take the final exam\")"
   ]
  },
  {
   "cell_type": "code",
   "execution_count": 412,
   "metadata": {},
   "outputs": [
    {
     "data": {
      "text/plain": [
       "0.0"
      ]
     },
     "execution_count": 412,
     "metadata": {},
     "output_type": "execute_result"
    }
   ],
   "source": [
    "# A neutral statement, we expect a zero polarity:\n",
    "polarity(\"Hello, world!\")"
   ]
  },
  {
   "cell_type": "code",
   "execution_count": 413,
   "metadata": {},
   "outputs": [
    {
     "data": {
      "text/plain": [
       "0.0"
      ]
     },
     "execution_count": 413,
     "metadata": {},
     "output_type": "execute_result"
    }
   ],
   "source": [
    "# Feel free to try your own sentence :)\n",
    "polarity(\"HHHH\")"
   ]
  },
  {
   "cell_type": "markdown",
   "metadata": {},
   "source": [
    "### Puzzle 2.2: Finding the Polarity of Human Answers"
   ]
  },
  {
   "cell_type": "markdown",
   "metadata": {},
   "source": [
    "Once you have defined a custom function, you can use it on every row of data by using:\n",
    "> ```python\n",
    "> df[\"column\"].apply( customFunctionName )\n",
    "> ```\n",
    "\n",
    "Note that `customFunctionName` does NOT contain the usual `(...)` at the end of the function name, you are providing **ONLY the name of the function** and the `apply` function will internally **call** the function.\n",
    "\n",
    "Using the syntax above, create a new column named `human_polarity` that finds the polarity of the `human_answer` data using the `.apply` operation on a column of a DataFrame:"
   ]
  },
  {
   "cell_type": "code",
   "execution_count": 414,
   "metadata": {},
   "outputs": [
    {
     "data": {
      "text/html": [
       "<div>\n",
       "<style scoped>\n",
       "    .dataframe tbody tr th:only-of-type {\n",
       "        vertical-align: middle;\n",
       "    }\n",
       "\n",
       "    .dataframe tbody tr th {\n",
       "        vertical-align: top;\n",
       "    }\n",
       "\n",
       "    .dataframe thead th {\n",
       "        text-align: right;\n",
       "    }\n",
       "</style>\n",
       "<table border=\"1\" class=\"dataframe\">\n",
       "  <thead>\n",
       "    <tr style=\"text-align: right;\">\n",
       "      <th></th>\n",
       "      <th>Unnamed: 0</th>\n",
       "      <th>question</th>\n",
       "      <th>human_answer</th>\n",
       "      <th>chatgpt_answer</th>\n",
       "      <th>human_answer_len</th>\n",
       "      <th>chatgpt_answer_len</th>\n",
       "      <th>human_polarity</th>\n",
       "    </tr>\n",
       "  </thead>\n",
       "  <tbody>\n",
       "    <tr>\n",
       "      <th>0</th>\n",
       "      <td>0</td>\n",
       "      <td>Why is every book I hear about a \" NY Times # ...</td>\n",
       "      <td>Basically there are many categories of \" Best ...</td>\n",
       "      <td>There are many different best seller lists tha...</td>\n",
       "      <td>600</td>\n",
       "      <td>1114</td>\n",
       "      <td>0.696667</td>\n",
       "    </tr>\n",
       "    <tr>\n",
       "      <th>1</th>\n",
       "      <td>1</td>\n",
       "      <td>If salt is so bad for cars , why do we use it ...</td>\n",
       "      <td>salt is good for not dying in car crashes and ...</td>\n",
       "      <td>Salt is used on roads to help melt ice and sno...</td>\n",
       "      <td>207</td>\n",
       "      <td>1148</td>\n",
       "      <td>0.289286</td>\n",
       "    </tr>\n",
       "    <tr>\n",
       "      <th>2</th>\n",
       "      <td>2</td>\n",
       "      <td>Why do we still have SD TV channels when HD lo...</td>\n",
       "      <td>The way it works is that old TV stations got a...</td>\n",
       "      <td>There are a few reasons why we still have SD (...</td>\n",
       "      <td>784</td>\n",
       "      <td>789</td>\n",
       "      <td>0.160761</td>\n",
       "    </tr>\n",
       "    <tr>\n",
       "      <th>3</th>\n",
       "      <td>3</td>\n",
       "      <td>Why has nobody assassinated Kim Jong - un He i...</td>\n",
       "      <td>You ca n't just go around assassinating the le...</td>\n",
       "      <td>It is generally not acceptable or ethical to a...</td>\n",
       "      <td>613</td>\n",
       "      <td>930</td>\n",
       "      <td>-0.025000</td>\n",
       "    </tr>\n",
       "    <tr>\n",
       "      <th>4</th>\n",
       "      <td>4</td>\n",
       "      <td>How was airplane technology able to advance so...</td>\n",
       "      <td>Wanting to kill the shit out of Germans drives...</td>\n",
       "      <td>After the Wright Brothers made the first power...</td>\n",
       "      <td>59</td>\n",
       "      <td>1235</td>\n",
       "      <td>-0.200000</td>\n",
       "    </tr>\n",
       "    <tr>\n",
       "      <th>...</th>\n",
       "      <td>...</td>\n",
       "      <td>...</td>\n",
       "      <td>...</td>\n",
       "      <td>...</td>\n",
       "      <td>...</td>\n",
       "      <td>...</td>\n",
       "      <td>...</td>\n",
       "    </tr>\n",
       "    <tr>\n",
       "      <th>95</th>\n",
       "      <td>95</td>\n",
       "      <td>How come the Constitution of the US is relevan...</td>\n",
       "      <td>The Constitution is the highest law of the lan...</td>\n",
       "      <td>The Constitution of the United States is the s...</td>\n",
       "      <td>368</td>\n",
       "      <td>1281</td>\n",
       "      <td>-0.083333</td>\n",
       "    </tr>\n",
       "    <tr>\n",
       "      <th>96</th>\n",
       "      <td>96</td>\n",
       "      <td>Why does Valve have Greenlight would n't it ma...</td>\n",
       "      <td>Now , There are 2 problems with steam , and bo...</td>\n",
       "      <td>Valve, the company that developed the Steam pl...</td>\n",
       "      <td>876</td>\n",
       "      <td>1034</td>\n",
       "      <td>-0.061111</td>\n",
       "    </tr>\n",
       "    <tr>\n",
       "      <th>97</th>\n",
       "      <td>97</td>\n",
       "      <td>why do people so commonly say SO instead of bo...</td>\n",
       "      <td>SO covers boyfriends , girlfriends , husbands ...</td>\n",
       "      <td>People might use the term \"SO\" instead of \"boy...</td>\n",
       "      <td>125</td>\n",
       "      <td>846</td>\n",
       "      <td>-0.250000</td>\n",
       "    </tr>\n",
       "    <tr>\n",
       "      <th>98</th>\n",
       "      <td>98</td>\n",
       "      <td>How do companies that buy &amp; re - sell other pe...</td>\n",
       "      <td>I get that they are \" bottom feeders \" but to ...</td>\n",
       "      <td>When a company or individual owes money to ano...</td>\n",
       "      <td>202</td>\n",
       "      <td>1254</td>\n",
       "      <td>0.170000</td>\n",
       "    </tr>\n",
       "    <tr>\n",
       "      <th>99</th>\n",
       "      <td>99</td>\n",
       "      <td>What is Heisenberg 's uncertainty principle in...</td>\n",
       "      <td>In the simplest terms , anything we do to try ...</td>\n",
       "      <td>Heisenberg's uncertainty principle is a fundam...</td>\n",
       "      <td>363</td>\n",
       "      <td>1438</td>\n",
       "      <td>-0.322222</td>\n",
       "    </tr>\n",
       "  </tbody>\n",
       "</table>\n",
       "<p>100 rows × 7 columns</p>\n",
       "</div>"
      ],
      "text/plain": [
       "    Unnamed: 0                                           question  \\\n",
       "0            0  Why is every book I hear about a \" NY Times # ...   \n",
       "1            1  If salt is so bad for cars , why do we use it ...   \n",
       "2            2  Why do we still have SD TV channels when HD lo...   \n",
       "3            3  Why has nobody assassinated Kim Jong - un He i...   \n",
       "4            4  How was airplane technology able to advance so...   \n",
       "..         ...                                                ...   \n",
       "95          95  How come the Constitution of the US is relevan...   \n",
       "96          96  Why does Valve have Greenlight would n't it ma...   \n",
       "97          97  why do people so commonly say SO instead of bo...   \n",
       "98          98  How do companies that buy & re - sell other pe...   \n",
       "99          99  What is Heisenberg 's uncertainty principle in...   \n",
       "\n",
       "                                         human_answer  \\\n",
       "0   Basically there are many categories of \" Best ...   \n",
       "1   salt is good for not dying in car crashes and ...   \n",
       "2   The way it works is that old TV stations got a...   \n",
       "3   You ca n't just go around assassinating the le...   \n",
       "4   Wanting to kill the shit out of Germans drives...   \n",
       "..                                                ...   \n",
       "95  The Constitution is the highest law of the lan...   \n",
       "96  Now , There are 2 problems with steam , and bo...   \n",
       "97  SO covers boyfriends , girlfriends , husbands ...   \n",
       "98  I get that they are \" bottom feeders \" but to ...   \n",
       "99  In the simplest terms , anything we do to try ...   \n",
       "\n",
       "                                       chatgpt_answer  human_answer_len  \\\n",
       "0   There are many different best seller lists tha...               600   \n",
       "1   Salt is used on roads to help melt ice and sno...               207   \n",
       "2   There are a few reasons why we still have SD (...               784   \n",
       "3   It is generally not acceptable or ethical to a...               613   \n",
       "4   After the Wright Brothers made the first power...                59   \n",
       "..                                                ...               ...   \n",
       "95  The Constitution of the United States is the s...               368   \n",
       "96  Valve, the company that developed the Steam pl...               876   \n",
       "97  People might use the term \"SO\" instead of \"boy...               125   \n",
       "98  When a company or individual owes money to ano...               202   \n",
       "99  Heisenberg's uncertainty principle is a fundam...               363   \n",
       "\n",
       "    chatgpt_answer_len  human_polarity  \n",
       "0                 1114        0.696667  \n",
       "1                 1148        0.289286  \n",
       "2                  789        0.160761  \n",
       "3                  930       -0.025000  \n",
       "4                 1235       -0.200000  \n",
       "..                 ...             ...  \n",
       "95                1281       -0.083333  \n",
       "96                1034       -0.061111  \n",
       "97                 846       -0.250000  \n",
       "98                1254        0.170000  \n",
       "99                1438       -0.322222  \n",
       "\n",
       "[100 rows x 7 columns]"
      ]
     },
     "execution_count": 414,
     "metadata": {},
     "output_type": "execute_result"
    }
   ],
   "source": [
    "df[\"human_polarity\"] = df['human_answer'].apply(polarity)\n",
    "df"
   ]
  },
  {
   "cell_type": "markdown",
   "metadata": {},
   "source": [
    "### Puzzle 2.3: Finding the Polarity of ChatGPT Answers\n",
    "\n",
    "Now, find the polarity of ChatGPT answers and save each polarity in the column `chatgpt_polarity`:"
   ]
  },
  {
   "cell_type": "code",
   "execution_count": 415,
   "metadata": {},
   "outputs": [
    {
     "data": {
      "text/html": [
       "<div>\n",
       "<style scoped>\n",
       "    .dataframe tbody tr th:only-of-type {\n",
       "        vertical-align: middle;\n",
       "    }\n",
       "\n",
       "    .dataframe tbody tr th {\n",
       "        vertical-align: top;\n",
       "    }\n",
       "\n",
       "    .dataframe thead th {\n",
       "        text-align: right;\n",
       "    }\n",
       "</style>\n",
       "<table border=\"1\" class=\"dataframe\">\n",
       "  <thead>\n",
       "    <tr style=\"text-align: right;\">\n",
       "      <th></th>\n",
       "      <th>Unnamed: 0</th>\n",
       "      <th>question</th>\n",
       "      <th>human_answer</th>\n",
       "      <th>chatgpt_answer</th>\n",
       "      <th>human_answer_len</th>\n",
       "      <th>chatgpt_answer_len</th>\n",
       "      <th>human_polarity</th>\n",
       "      <th>chatgpt_polarity</th>\n",
       "    </tr>\n",
       "  </thead>\n",
       "  <tbody>\n",
       "    <tr>\n",
       "      <th>0</th>\n",
       "      <td>0</td>\n",
       "      <td>Why is every book I hear about a \" NY Times # ...</td>\n",
       "      <td>Basically there are many categories of \" Best ...</td>\n",
       "      <td>There are many different best seller lists tha...</td>\n",
       "      <td>600</td>\n",
       "      <td>1114</td>\n",
       "      <td>0.696667</td>\n",
       "      <td>0.352774</td>\n",
       "    </tr>\n",
       "    <tr>\n",
       "      <th>1</th>\n",
       "      <td>1</td>\n",
       "      <td>If salt is so bad for cars , why do we use it ...</td>\n",
       "      <td>salt is good for not dying in car crashes and ...</td>\n",
       "      <td>Salt is used on roads to help melt ice and sno...</td>\n",
       "      <td>207</td>\n",
       "      <td>1148</td>\n",
       "      <td>0.289286</td>\n",
       "      <td>0.113158</td>\n",
       "    </tr>\n",
       "    <tr>\n",
       "      <th>2</th>\n",
       "      <td>2</td>\n",
       "      <td>Why do we still have SD TV channels when HD lo...</td>\n",
       "      <td>The way it works is that old TV stations got a...</td>\n",
       "      <td>There are a few reasons why we still have SD (...</td>\n",
       "      <td>784</td>\n",
       "      <td>789</td>\n",
       "      <td>0.160761</td>\n",
       "      <td>0.196140</td>\n",
       "    </tr>\n",
       "    <tr>\n",
       "      <th>3</th>\n",
       "      <td>3</td>\n",
       "      <td>Why has nobody assassinated Kim Jong - un He i...</td>\n",
       "      <td>You ca n't just go around assassinating the le...</td>\n",
       "      <td>It is generally not acceptable or ethical to a...</td>\n",
       "      <td>613</td>\n",
       "      <td>930</td>\n",
       "      <td>-0.025000</td>\n",
       "      <td>0.032037</td>\n",
       "    </tr>\n",
       "    <tr>\n",
       "      <th>4</th>\n",
       "      <td>4</td>\n",
       "      <td>How was airplane technology able to advance so...</td>\n",
       "      <td>Wanting to kill the shit out of Germans drives...</td>\n",
       "      <td>After the Wright Brothers made the first power...</td>\n",
       "      <td>59</td>\n",
       "      <td>1235</td>\n",
       "      <td>-0.200000</td>\n",
       "      <td>0.336167</td>\n",
       "    </tr>\n",
       "    <tr>\n",
       "      <th>...</th>\n",
       "      <td>...</td>\n",
       "      <td>...</td>\n",
       "      <td>...</td>\n",
       "      <td>...</td>\n",
       "      <td>...</td>\n",
       "      <td>...</td>\n",
       "      <td>...</td>\n",
       "      <td>...</td>\n",
       "    </tr>\n",
       "    <tr>\n",
       "      <th>95</th>\n",
       "      <td>95</td>\n",
       "      <td>How come the Constitution of the US is relevan...</td>\n",
       "      <td>The Constitution is the highest law of the lan...</td>\n",
       "      <td>The Constitution of the United States is the s...</td>\n",
       "      <td>368</td>\n",
       "      <td>1281</td>\n",
       "      <td>-0.083333</td>\n",
       "      <td>0.182286</td>\n",
       "    </tr>\n",
       "    <tr>\n",
       "      <th>96</th>\n",
       "      <td>96</td>\n",
       "      <td>Why does Valve have Greenlight would n't it ma...</td>\n",
       "      <td>Now , There are 2 problems with steam , and bo...</td>\n",
       "      <td>Valve, the company that developed the Steam pl...</td>\n",
       "      <td>876</td>\n",
       "      <td>1034</td>\n",
       "      <td>-0.061111</td>\n",
       "      <td>0.000000</td>\n",
       "    </tr>\n",
       "    <tr>\n",
       "      <th>97</th>\n",
       "      <td>97</td>\n",
       "      <td>why do people so commonly say SO instead of bo...</td>\n",
       "      <td>SO covers boyfriends , girlfriends , husbands ...</td>\n",
       "      <td>People might use the term \"SO\" instead of \"boy...</td>\n",
       "      <td>125</td>\n",
       "      <td>846</td>\n",
       "      <td>-0.250000</td>\n",
       "      <td>0.080769</td>\n",
       "    </tr>\n",
       "    <tr>\n",
       "      <th>98</th>\n",
       "      <td>98</td>\n",
       "      <td>How do companies that buy &amp; re - sell other pe...</td>\n",
       "      <td>I get that they are \" bottom feeders \" but to ...</td>\n",
       "      <td>When a company or individual owes money to ano...</td>\n",
       "      <td>202</td>\n",
       "      <td>1254</td>\n",
       "      <td>0.170000</td>\n",
       "      <td>0.112500</td>\n",
       "    </tr>\n",
       "    <tr>\n",
       "      <th>99</th>\n",
       "      <td>99</td>\n",
       "      <td>What is Heisenberg 's uncertainty principle in...</td>\n",
       "      <td>In the simplest terms , anything we do to try ...</td>\n",
       "      <td>Heisenberg's uncertainty principle is a fundam...</td>\n",
       "      <td>363</td>\n",
       "      <td>1438</td>\n",
       "      <td>-0.322222</td>\n",
       "      <td>0.105833</td>\n",
       "    </tr>\n",
       "  </tbody>\n",
       "</table>\n",
       "<p>100 rows × 8 columns</p>\n",
       "</div>"
      ],
      "text/plain": [
       "    Unnamed: 0                                           question  \\\n",
       "0            0  Why is every book I hear about a \" NY Times # ...   \n",
       "1            1  If salt is so bad for cars , why do we use it ...   \n",
       "2            2  Why do we still have SD TV channels when HD lo...   \n",
       "3            3  Why has nobody assassinated Kim Jong - un He i...   \n",
       "4            4  How was airplane technology able to advance so...   \n",
       "..         ...                                                ...   \n",
       "95          95  How come the Constitution of the US is relevan...   \n",
       "96          96  Why does Valve have Greenlight would n't it ma...   \n",
       "97          97  why do people so commonly say SO instead of bo...   \n",
       "98          98  How do companies that buy & re - sell other pe...   \n",
       "99          99  What is Heisenberg 's uncertainty principle in...   \n",
       "\n",
       "                                         human_answer  \\\n",
       "0   Basically there are many categories of \" Best ...   \n",
       "1   salt is good for not dying in car crashes and ...   \n",
       "2   The way it works is that old TV stations got a...   \n",
       "3   You ca n't just go around assassinating the le...   \n",
       "4   Wanting to kill the shit out of Germans drives...   \n",
       "..                                                ...   \n",
       "95  The Constitution is the highest law of the lan...   \n",
       "96  Now , There are 2 problems with steam , and bo...   \n",
       "97  SO covers boyfriends , girlfriends , husbands ...   \n",
       "98  I get that they are \" bottom feeders \" but to ...   \n",
       "99  In the simplest terms , anything we do to try ...   \n",
       "\n",
       "                                       chatgpt_answer  human_answer_len  \\\n",
       "0   There are many different best seller lists tha...               600   \n",
       "1   Salt is used on roads to help melt ice and sno...               207   \n",
       "2   There are a few reasons why we still have SD (...               784   \n",
       "3   It is generally not acceptable or ethical to a...               613   \n",
       "4   After the Wright Brothers made the first power...                59   \n",
       "..                                                ...               ...   \n",
       "95  The Constitution of the United States is the s...               368   \n",
       "96  Valve, the company that developed the Steam pl...               876   \n",
       "97  People might use the term \"SO\" instead of \"boy...               125   \n",
       "98  When a company or individual owes money to ano...               202   \n",
       "99  Heisenberg's uncertainty principle is a fundam...               363   \n",
       "\n",
       "    chatgpt_answer_len  human_polarity  chatgpt_polarity  \n",
       "0                 1114        0.696667          0.352774  \n",
       "1                 1148        0.289286          0.113158  \n",
       "2                  789        0.160761          0.196140  \n",
       "3                  930       -0.025000          0.032037  \n",
       "4                 1235       -0.200000          0.336167  \n",
       "..                 ...             ...               ...  \n",
       "95                1281       -0.083333          0.182286  \n",
       "96                1034       -0.061111          0.000000  \n",
       "97                 846       -0.250000          0.080769  \n",
       "98                1254        0.170000          0.112500  \n",
       "99                1438       -0.322222          0.105833  \n",
       "\n",
       "[100 rows x 8 columns]"
      ]
     },
     "execution_count": 415,
     "metadata": {},
     "output_type": "execute_result"
    }
   ],
   "source": [
    "df[\"chatgpt_polarity\"] = df['chatgpt_answer'].apply(polarity)\n",
    "df"
   ]
  },
  {
   "cell_type": "code",
   "execution_count": 416,
   "metadata": {},
   "outputs": [
    {
     "name": "stdout",
     "output_type": "stream",
     "text": [
      "🎉 All Tests Passed! 🎉\n"
     ]
    }
   ],
   "source": [
    "### TEST CASE for Puzzle 2: Sentiment Analysis - Polarity\n",
    "tada = \"\\N{PARTY POPPER}\"\n",
    "\n",
    "assert('human_polarity' in df.columns)\n",
    "assert('chatgpt_polarity' in df.columns)\n",
    "\n",
    "import math\n",
    "assert(math.isclose( df[\"human_polarity\"].mean(), 0.07790771420489018 ))\n",
    "assert(math.isclose( df[\"chatgpt_polarity\"].std(), 0.11014935757814867 ))\n",
    "\n",
    "print(f\"{tada} All Tests Passed! {tada}\")"
   ]
  },
  {
   "cell_type": "markdown",
   "metadata": {},
   "source": [
    "### Analysis: Overall Results\n",
    "\n",
    "Run the following cell to see a summary of the results you found so far:"
   ]
  },
  {
   "cell_type": "code",
   "execution_count": 417,
   "metadata": {},
   "outputs": [
    {
     "data": {
      "text/html": [
       "<div>\n",
       "<style scoped>\n",
       "    .dataframe tbody tr th:only-of-type {\n",
       "        vertical-align: middle;\n",
       "    }\n",
       "\n",
       "    .dataframe tbody tr th {\n",
       "        vertical-align: top;\n",
       "    }\n",
       "\n",
       "    .dataframe thead th {\n",
       "        text-align: right;\n",
       "    }\n",
       "</style>\n",
       "<table border=\"1\" class=\"dataframe\">\n",
       "  <thead>\n",
       "    <tr style=\"text-align: right;\">\n",
       "      <th></th>\n",
       "      <th>Metric</th>\n",
       "      <th>Human</th>\n",
       "      <th>ChatGPT</th>\n",
       "    </tr>\n",
       "  </thead>\n",
       "  <tbody>\n",
       "    <tr>\n",
       "      <th>0</th>\n",
       "      <td>Response Length (mean):</td>\n",
       "      <td>729.880000</td>\n",
       "      <td>1098.770000</td>\n",
       "    </tr>\n",
       "    <tr>\n",
       "      <th>1</th>\n",
       "      <td>Polarity (mean):</td>\n",
       "      <td>0.077908</td>\n",
       "      <td>0.098595</td>\n",
       "    </tr>\n",
       "    <tr>\n",
       "      <th>2</th>\n",
       "      <td>Polarity (mean of absolutely values):</td>\n",
       "      <td>0.149428</td>\n",
       "      <td>0.116580</td>\n",
       "    </tr>\n",
       "  </tbody>\n",
       "</table>\n",
       "</div>"
      ],
      "text/plain": [
       "                                  Metric       Human      ChatGPT\n",
       "0                Response Length (mean):  729.880000  1098.770000\n",
       "1                       Polarity (mean):    0.077908     0.098595\n",
       "2  Polarity (mean of absolutely values):    0.149428     0.116580"
      ]
     },
     "execution_count": 417,
     "metadata": {},
     "output_type": "execute_result"
    }
   ],
   "source": [
    "import pandas as pd\n",
    "pd.DataFrame([\n",
    "  {\"Metric\": \"Response Length (mean):\",  \"Human\": human_avg, \"ChatGPT\": ai_avg },\n",
    "  {\"Metric\": \"Polarity (mean):\", \"Human\": df.human_polarity.mean(), \"ChatGPT\": df.chatgpt_polarity.mean() },\n",
    "  {\"Metric\": \"Polarity (mean of absolutely values):\", \"Human\": df.human_polarity.abs().mean(), \"ChatGPT\": df.chatgpt_polarity.abs().mean() },\n",
    "])"
   ]
  },
  {
   "cell_type": "markdown",
   "metadata": {},
   "source": [
    "<hr style=\"color: #DD3403;\">"
   ]
  },
  {
   "cell_type": "markdown",
   "metadata": {},
   "source": [
    "## Part 3: Sentiment Analysis - Subjectivity\n",
    "\n",
    "Using the same library and design as Part #2, create a function called `subjectivity` that returns the subjectivity score of a given string `s`:\n"
   ]
  },
  {
   "cell_type": "code",
   "execution_count": 418,
   "metadata": {},
   "outputs": [],
   "source": [
    "def subjectivity(s):\n",
    "  blob = TextBlob(s)\n",
    "  return blob.sentiment.subjectivity"
   ]
  },
  {
   "cell_type": "markdown",
   "metadata": {},
   "source": [
    "Let's try it out:"
   ]
  },
  {
   "cell_type": "code",
   "execution_count": 419,
   "metadata": {},
   "outputs": [
    {
     "data": {
      "text/plain": [
       "0.6"
      ]
     },
     "execution_count": 419,
     "metadata": {},
     "output_type": "execute_result"
    }
   ],
   "source": [
    "# A highly subjective statement, expecting a score above 0.5:\n",
    "subjectivity(\"The best fruit is a kiwi and everyone else is wrong!\")"
   ]
  },
  {
   "cell_type": "code",
   "execution_count": 420,
   "metadata": {},
   "outputs": [
    {
     "data": {
      "text/plain": [
       "0.0"
      ]
     },
     "execution_count": 420,
     "metadata": {},
     "output_type": "execute_result"
    }
   ],
   "source": [
    "# A factual statement, expecting a score near 0:\n",
    "subjectivity(\"Winter is colder than summer.\")"
   ]
  },
  {
   "cell_type": "code",
   "execution_count": 421,
   "metadata": {},
   "outputs": [
    {
     "data": {
      "text/plain": [
       "0.0"
      ]
     },
     "execution_count": 421,
     "metadata": {},
     "output_type": "execute_result"
    }
   ],
   "source": [
    "# Feel free to try your own :)\n",
    "subjectivity(\"...\")"
   ]
  },
  {
   "cell_type": "markdown",
   "metadata": {},
   "source": [
    "### Finding the Subjectivity of Human and ChatGPT Answers"
   ]
  },
  {
   "cell_type": "markdown",
   "metadata": {},
   "source": [
    "Add two new columns to the DataFrame, `human_subjectivity` and `chatgpt_subjectivity`, that stores the subjectivity of each answer for all of the questions.\n",
    "\n",
    "*You may need to look back to the previous section to review how to use the .apply function.*"
   ]
  },
  {
   "cell_type": "code",
   "execution_count": 422,
   "metadata": {},
   "outputs": [
    {
     "data": {
      "text/html": [
       "<div>\n",
       "<style scoped>\n",
       "    .dataframe tbody tr th:only-of-type {\n",
       "        vertical-align: middle;\n",
       "    }\n",
       "\n",
       "    .dataframe tbody tr th {\n",
       "        vertical-align: top;\n",
       "    }\n",
       "\n",
       "    .dataframe thead th {\n",
       "        text-align: right;\n",
       "    }\n",
       "</style>\n",
       "<table border=\"1\" class=\"dataframe\">\n",
       "  <thead>\n",
       "    <tr style=\"text-align: right;\">\n",
       "      <th></th>\n",
       "      <th>Unnamed: 0</th>\n",
       "      <th>question</th>\n",
       "      <th>human_answer</th>\n",
       "      <th>chatgpt_answer</th>\n",
       "      <th>human_answer_len</th>\n",
       "      <th>chatgpt_answer_len</th>\n",
       "      <th>human_polarity</th>\n",
       "      <th>chatgpt_polarity</th>\n",
       "      <th>human_subjectivity</th>\n",
       "      <th>chatgpt_subjectivity</th>\n",
       "    </tr>\n",
       "  </thead>\n",
       "  <tbody>\n",
       "    <tr>\n",
       "      <th>0</th>\n",
       "      <td>0</td>\n",
       "      <td>Why is every book I hear about a \" NY Times # ...</td>\n",
       "      <td>Basically there are many categories of \" Best ...</td>\n",
       "      <td>There are many different best seller lists tha...</td>\n",
       "      <td>600</td>\n",
       "      <td>1114</td>\n",
       "      <td>0.696667</td>\n",
       "      <td>0.352774</td>\n",
       "      <td>0.348333</td>\n",
       "      <td>0.490007</td>\n",
       "    </tr>\n",
       "    <tr>\n",
       "      <th>1</th>\n",
       "      <td>1</td>\n",
       "      <td>If salt is so bad for cars , why do we use it ...</td>\n",
       "      <td>salt is good for not dying in car crashes and ...</td>\n",
       "      <td>Salt is used on roads to help melt ice and sno...</td>\n",
       "      <td>207</td>\n",
       "      <td>1148</td>\n",
       "      <td>0.289286</td>\n",
       "      <td>0.113158</td>\n",
       "      <td>0.625000</td>\n",
       "      <td>0.577193</td>\n",
       "    </tr>\n",
       "    <tr>\n",
       "      <th>2</th>\n",
       "      <td>2</td>\n",
       "      <td>Why do we still have SD TV channels when HD lo...</td>\n",
       "      <td>The way it works is that old TV stations got a...</td>\n",
       "      <td>There are a few reasons why we still have SD (...</td>\n",
       "      <td>784</td>\n",
       "      <td>789</td>\n",
       "      <td>0.160761</td>\n",
       "      <td>0.196140</td>\n",
       "      <td>0.387570</td>\n",
       "      <td>0.574912</td>\n",
       "    </tr>\n",
       "    <tr>\n",
       "      <th>3</th>\n",
       "      <td>3</td>\n",
       "      <td>Why has nobody assassinated Kim Jong - un He i...</td>\n",
       "      <td>You ca n't just go around assassinating the le...</td>\n",
       "      <td>It is generally not acceptable or ethical to a...</td>\n",
       "      <td>613</td>\n",
       "      <td>930</td>\n",
       "      <td>-0.025000</td>\n",
       "      <td>0.032037</td>\n",
       "      <td>0.521429</td>\n",
       "      <td>0.602222</td>\n",
       "    </tr>\n",
       "    <tr>\n",
       "      <th>4</th>\n",
       "      <td>4</td>\n",
       "      <td>How was airplane technology able to advance so...</td>\n",
       "      <td>Wanting to kill the shit out of Germans drives...</td>\n",
       "      <td>After the Wright Brothers made the first power...</td>\n",
       "      <td>59</td>\n",
       "      <td>1235</td>\n",
       "      <td>-0.200000</td>\n",
       "      <td>0.336167</td>\n",
       "      <td>0.800000</td>\n",
       "      <td>0.484583</td>\n",
       "    </tr>\n",
       "    <tr>\n",
       "      <th>...</th>\n",
       "      <td>...</td>\n",
       "      <td>...</td>\n",
       "      <td>...</td>\n",
       "      <td>...</td>\n",
       "      <td>...</td>\n",
       "      <td>...</td>\n",
       "      <td>...</td>\n",
       "      <td>...</td>\n",
       "      <td>...</td>\n",
       "      <td>...</td>\n",
       "    </tr>\n",
       "    <tr>\n",
       "      <th>95</th>\n",
       "      <td>95</td>\n",
       "      <td>How come the Constitution of the US is relevan...</td>\n",
       "      <td>The Constitution is the highest law of the lan...</td>\n",
       "      <td>The Constitution of the United States is the s...</td>\n",
       "      <td>368</td>\n",
       "      <td>1281</td>\n",
       "      <td>-0.083333</td>\n",
       "      <td>0.182286</td>\n",
       "      <td>0.333333</td>\n",
       "      <td>0.648095</td>\n",
       "    </tr>\n",
       "    <tr>\n",
       "      <th>96</th>\n",
       "      <td>96</td>\n",
       "      <td>Why does Valve have Greenlight would n't it ma...</td>\n",
       "      <td>Now , There are 2 problems with steam , and bo...</td>\n",
       "      <td>Valve, the company that developed the Steam pl...</td>\n",
       "      <td>876</td>\n",
       "      <td>1034</td>\n",
       "      <td>-0.061111</td>\n",
       "      <td>0.000000</td>\n",
       "      <td>0.388194</td>\n",
       "      <td>0.346154</td>\n",
       "    </tr>\n",
       "    <tr>\n",
       "      <th>97</th>\n",
       "      <td>97</td>\n",
       "      <td>why do people so commonly say SO instead of bo...</td>\n",
       "      <td>SO covers boyfriends , girlfriends , husbands ...</td>\n",
       "      <td>People might use the term \"SO\" instead of \"boy...</td>\n",
       "      <td>125</td>\n",
       "      <td>846</td>\n",
       "      <td>-0.250000</td>\n",
       "      <td>0.080769</td>\n",
       "      <td>0.495833</td>\n",
       "      <td>0.504487</td>\n",
       "    </tr>\n",
       "    <tr>\n",
       "      <th>98</th>\n",
       "      <td>98</td>\n",
       "      <td>How do companies that buy &amp; re - sell other pe...</td>\n",
       "      <td>I get that they are \" bottom feeders \" but to ...</td>\n",
       "      <td>When a company or individual owes money to ano...</td>\n",
       "      <td>202</td>\n",
       "      <td>1254</td>\n",
       "      <td>0.170000</td>\n",
       "      <td>0.112500</td>\n",
       "      <td>0.700000</td>\n",
       "      <td>0.465625</td>\n",
       "    </tr>\n",
       "    <tr>\n",
       "      <th>99</th>\n",
       "      <td>99</td>\n",
       "      <td>What is Heisenberg 's uncertainty principle in...</td>\n",
       "      <td>In the simplest terms , anything we do to try ...</td>\n",
       "      <td>Heisenberg's uncertainty principle is a fundam...</td>\n",
       "      <td>363</td>\n",
       "      <td>1438</td>\n",
       "      <td>-0.322222</td>\n",
       "      <td>0.105833</td>\n",
       "      <td>0.508333</td>\n",
       "      <td>0.505333</td>\n",
       "    </tr>\n",
       "  </tbody>\n",
       "</table>\n",
       "<p>100 rows × 10 columns</p>\n",
       "</div>"
      ],
      "text/plain": [
       "    Unnamed: 0                                           question  \\\n",
       "0            0  Why is every book I hear about a \" NY Times # ...   \n",
       "1            1  If salt is so bad for cars , why do we use it ...   \n",
       "2            2  Why do we still have SD TV channels when HD lo...   \n",
       "3            3  Why has nobody assassinated Kim Jong - un He i...   \n",
       "4            4  How was airplane technology able to advance so...   \n",
       "..         ...                                                ...   \n",
       "95          95  How come the Constitution of the US is relevan...   \n",
       "96          96  Why does Valve have Greenlight would n't it ma...   \n",
       "97          97  why do people so commonly say SO instead of bo...   \n",
       "98          98  How do companies that buy & re - sell other pe...   \n",
       "99          99  What is Heisenberg 's uncertainty principle in...   \n",
       "\n",
       "                                         human_answer  \\\n",
       "0   Basically there are many categories of \" Best ...   \n",
       "1   salt is good for not dying in car crashes and ...   \n",
       "2   The way it works is that old TV stations got a...   \n",
       "3   You ca n't just go around assassinating the le...   \n",
       "4   Wanting to kill the shit out of Germans drives...   \n",
       "..                                                ...   \n",
       "95  The Constitution is the highest law of the lan...   \n",
       "96  Now , There are 2 problems with steam , and bo...   \n",
       "97  SO covers boyfriends , girlfriends , husbands ...   \n",
       "98  I get that they are \" bottom feeders \" but to ...   \n",
       "99  In the simplest terms , anything we do to try ...   \n",
       "\n",
       "                                       chatgpt_answer  human_answer_len  \\\n",
       "0   There are many different best seller lists tha...               600   \n",
       "1   Salt is used on roads to help melt ice and sno...               207   \n",
       "2   There are a few reasons why we still have SD (...               784   \n",
       "3   It is generally not acceptable or ethical to a...               613   \n",
       "4   After the Wright Brothers made the first power...                59   \n",
       "..                                                ...               ...   \n",
       "95  The Constitution of the United States is the s...               368   \n",
       "96  Valve, the company that developed the Steam pl...               876   \n",
       "97  People might use the term \"SO\" instead of \"boy...               125   \n",
       "98  When a company or individual owes money to ano...               202   \n",
       "99  Heisenberg's uncertainty principle is a fundam...               363   \n",
       "\n",
       "    chatgpt_answer_len  human_polarity  chatgpt_polarity  human_subjectivity  \\\n",
       "0                 1114        0.696667          0.352774            0.348333   \n",
       "1                 1148        0.289286          0.113158            0.625000   \n",
       "2                  789        0.160761          0.196140            0.387570   \n",
       "3                  930       -0.025000          0.032037            0.521429   \n",
       "4                 1235       -0.200000          0.336167            0.800000   \n",
       "..                 ...             ...               ...                 ...   \n",
       "95                1281       -0.083333          0.182286            0.333333   \n",
       "96                1034       -0.061111          0.000000            0.388194   \n",
       "97                 846       -0.250000          0.080769            0.495833   \n",
       "98                1254        0.170000          0.112500            0.700000   \n",
       "99                1438       -0.322222          0.105833            0.508333   \n",
       "\n",
       "    chatgpt_subjectivity  \n",
       "0               0.490007  \n",
       "1               0.577193  \n",
       "2               0.574912  \n",
       "3               0.602222  \n",
       "4               0.484583  \n",
       "..                   ...  \n",
       "95              0.648095  \n",
       "96              0.346154  \n",
       "97              0.504487  \n",
       "98              0.465625  \n",
       "99              0.505333  \n",
       "\n",
       "[100 rows x 10 columns]"
      ]
     },
     "execution_count": 422,
     "metadata": {},
     "output_type": "execute_result"
    }
   ],
   "source": [
    "df['human_subjectivity'] = df['human_answer'].apply(subjectivity)\n",
    "\n",
    "df['chatgpt_subjectivity'] = df['chatgpt_answer'].apply(subjectivity)\n",
    "df"
   ]
  },
  {
   "cell_type": "code",
   "execution_count": 423,
   "metadata": {},
   "outputs": [
    {
     "name": "stdout",
     "output_type": "stream",
     "text": [
      "🎉 All Tests Passed! 🎉\n"
     ]
    }
   ],
   "source": [
    "### TEST CASE for Puzzle 3: Sentiment Analysis - Subjectivity\n",
    "tada = \"\\N{PARTY POPPER}\"\n",
    "\n",
    "import math\n",
    "\n",
    "assert('human_subjectivity' in df.columns)\n",
    "assert('chatgpt_subjectivity' in df.columns)\n",
    "assert( math.isclose( df[\"human_subjectivity\"].mean(), 0.4507534813188739 ) )\n",
    "assert( math.isclose( df[\"chatgpt_subjectivity\"].std(), 0.10025355258208316 ) )\n",
    "\n",
    "print(f\"{tada} All Tests Passed! {tada}\")"
   ]
  },
  {
   "cell_type": "markdown",
   "metadata": {},
   "source": [
    "<hr style=\"color: #DD3403;\">"
   ]
  },
  {
   "cell_type": "markdown",
   "metadata": {},
   "source": [
    "## Puzzle 4: Testing if the Difference in Subjectivity is Statistically Significant"
   ]
  },
  {
   "cell_type": "markdown",
   "metadata": {},
   "source": [
    "To determine if the difference between the subjectivity is statistically significant, we're going to conduct a t-test. Let's first state our null and alternative hypotheses.\n",
    "\n",
    "> **Null hypothesis**: There is no significant difference between the means of the human and ChatGPT subjectivity.\n",
    "> \n",
    "> **Alternative hypothesis**: There is a significant difference between the means of the human and ChatGPT subjectivity."
   ]
  },
  {
   "cell_type": "markdown",
   "metadata": {},
   "source": [
    "Use the scipy.stats.ttest_ind function again to get the t-stat and p-value. "
   ]
  },
  {
   "cell_type": "code",
   "execution_count": 424,
   "metadata": {},
   "outputs": [],
   "source": [
    "# Compute a t-test:\n",
    "#    Syntax: t_stat, p_value = ttest_ind( ... )\n",
    "a = df['human_subjectivity'].dropna()\n",
    "b = df['chatgpt_subjectivity'].dropna()\n",
    "t_stat, p_value = ttest_ind(a, b)"
   ]
  },
  {
   "cell_type": "code",
   "execution_count": 425,
   "metadata": {},
   "outputs": [
    {
     "data": {
      "text/plain": [
       "np.float64(-2.5152049954631126)"
      ]
     },
     "execution_count": 425,
     "metadata": {},
     "output_type": "execute_result"
    }
   ],
   "source": [
    "t_stat"
   ]
  },
  {
   "cell_type": "code",
   "execution_count": 426,
   "metadata": {},
   "outputs": [
    {
     "data": {
      "text/plain": [
       "np.float64(0.012691373254489834)"
      ]
     },
     "execution_count": 426,
     "metadata": {},
     "output_type": "execute_result"
    }
   ],
   "source": [
    "p_value"
   ]
  },
  {
   "cell_type": "markdown",
   "metadata": {},
   "source": [
    "Using the calculated p-value and an alpha level of .05, we can determine if there is a significant difference between the two mean values. Un-comment the correct conclusion based on these values."
   ]
  },
  {
   "cell_type": "code",
   "execution_count": 427,
   "metadata": {},
   "outputs": [],
   "source": [
    "conclusion = \"The p-value is LESS THAN .05 so there is a significant difference between the means of the two response subjectivity.\"\n",
    "# conclusion = \"The p-value is LESS THAN .05 so there is *NO* significant difference between the means of the two response subjectivity.\"\n",
    "# conclusion = \"The p-value is GREATER THAN .05 so there is a significant difference between the means of the two response subjectivity.\"\n",
    "# conclusion = \"The p-value is GREATER THAN .05 so there is *NO* significant difference between the means of the two response subjectivity.\""
   ]
  },
  {
   "cell_type": "code",
   "execution_count": 428,
   "metadata": {},
   "outputs": [
    {
     "name": "stdout",
     "output_type": "stream",
     "text": [
      "🎉 All Tests Passed! 🎉\n"
     ]
    }
   ],
   "source": [
    "### TEST CASE for Puzzle 4: Testing if the Difference in Subjectivity is Statistically Significant\n",
    "tada = \"\\N{PARTY POPPER}\"\n",
    "assert(\"t_stat\" in vars())\n",
    "assert(\"p_value\" in vars())\n",
    "assert(len(conclusion) == 117)\n",
    "assert(conclusion.count(\"a\") == 4)\n",
    "\n",
    "import math\n",
    "assert( math.isclose(t_stat * p_value, -0.031921405408979774) ), \"Check your t_stat and p_value.\"\n",
    "\n",
    "print(f\"{tada} All Tests Passed! {tada}\")"
   ]
  },
  {
   "cell_type": "markdown",
   "metadata": {},
   "source": [
    "<hr style=\"color: #DD3403;\">"
   ]
  },
  {
   "cell_type": "markdown",
   "metadata": {},
   "source": [
    "## Submission\n",
    "\n",
    "You're almost done!  All you need to do is to commit your lab to GitHub and run the GitHub Actions Grader:\n",
    "\n",
    "1.  ⚠️ **Make certain to save your work.** ⚠️ To do this, go to **File => Save All**\n",
    "\n",
    "2.  After you have saved, exit this notebook and return to https://discovery.cs.illinois.edu/microproject/ai-vs-human-response-analysis/ and complete the section **\"Commit and Grade Your Notebook\"**.\n",
    "\n",
    "3. If you see a 100% grade result on your GitHub Action, you've completed this MicroProject! 🎉"
   ]
  }
 ],
 "metadata": {
  "kernelspec": {
   "display_name": "Python 3",
   "language": "python",
   "name": "python3"
  },
  "language_info": {
   "codemirror_mode": {
    "name": "ipython",
    "version": 3
   },
   "file_extension": ".py",
   "mimetype": "text/x-python",
   "name": "python",
   "nbconvert_exporter": "python",
   "pygments_lexer": "ipython3",
   "version": "3.12.9"
  }
 },
 "nbformat": 4,
 "nbformat_minor": 2
}
