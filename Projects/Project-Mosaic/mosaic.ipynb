{
 "cells": [
  {
   "cell_type": "markdown",
   "metadata": {},
   "source": [
    "<h1 style=\"text-align: center;\">\n",
    "<div style=\"color: #DD3403; font-size: 60%\">Data Science DISCOVERY Project #1</div>\n",
    "<span style=\"\">Project #1: Mosaic Project</span>\n",
    "<div style=\"font-size: 60%;\"><a href=\"https://discovery.cs.illinois.edu/guides/project-mosaic/\">https://discovery.cs.illinois.edu/guides/project-mosaic/</a></div>\n",
    "</h1>\n",
    "\n",
    "<hr style=\"color: #DD3403;\">"
   ]
  },
  {
   "attachments": {},
   "cell_type": "markdown",
   "metadata": {},
   "source": [
    "# Section 1: Understanding an Image\n",
    "\n",
    "In both lecture and then in `lab_favorites`, you learned that a computer represents an image as a 2D grid of **pixels** where each pixel is a single color.  Here is our sample image, **zoomed at 50x**, that shows the nine pixels:\n",
    "\n",
    "![Color](./notebook-images/sample-50x.png)\n",
    "\n",
    "\n",
    "## Section 1.1: The `DISCOVERY` library!\n",
    "\n",
    "In `lab_favorites`, you learned about the DISCOVERY library to help you with image data.  To use it:\n",
    "\n",
    "- You must `import DISCOVERY` (all caps, because DISCOVERY!)\n",
    "- Use `image = DISCOVERY.df_image(\"sample.png\")` to load the `sample.png` image a DataFrame\n",
    "\n",
    "Try that out in the cell below:"
   ]
  },
  {
   "cell_type": "code",
   "execution_count": 66,
   "metadata": {},
   "outputs": [
    {
     "data": {
      "text/html": [
       "<div>\n",
       "<style scoped>\n",
       "    .dataframe tbody tr th:only-of-type {\n",
       "        vertical-align: middle;\n",
       "    }\n",
       "\n",
       "    .dataframe tbody tr th {\n",
       "        vertical-align: top;\n",
       "    }\n",
       "\n",
       "    .dataframe thead th {\n",
       "        text-align: right;\n",
       "    }\n",
       "</style>\n",
       "<table border=\"1\" class=\"dataframe\">\n",
       "  <thead>\n",
       "    <tr style=\"text-align: right;\">\n",
       "      <th></th>\n",
       "      <th>x</th>\n",
       "      <th>y</th>\n",
       "      <th>r</th>\n",
       "      <th>g</th>\n",
       "      <th>b</th>\n",
       "    </tr>\n",
       "  </thead>\n",
       "  <tbody>\n",
       "    <tr>\n",
       "      <th>0</th>\n",
       "      <td>0</td>\n",
       "      <td>0</td>\n",
       "      <td>0</td>\n",
       "      <td>0</td>\n",
       "      <td>255</td>\n",
       "    </tr>\n",
       "    <tr>\n",
       "      <th>1</th>\n",
       "      <td>0</td>\n",
       "      <td>1</td>\n",
       "      <td>0</td>\n",
       "      <td>255</td>\n",
       "      <td>0</td>\n",
       "    </tr>\n",
       "    <tr>\n",
       "      <th>2</th>\n",
       "      <td>0</td>\n",
       "      <td>2</td>\n",
       "      <td>255</td>\n",
       "      <td>255</td>\n",
       "      <td>255</td>\n",
       "    </tr>\n",
       "    <tr>\n",
       "      <th>3</th>\n",
       "      <td>1</td>\n",
       "      <td>0</td>\n",
       "      <td>255</td>\n",
       "      <td>255</td>\n",
       "      <td>255</td>\n",
       "    </tr>\n",
       "    <tr>\n",
       "      <th>4</th>\n",
       "      <td>1</td>\n",
       "      <td>1</td>\n",
       "      <td>0</td>\n",
       "      <td>0</td>\n",
       "      <td>0</td>\n",
       "    </tr>\n",
       "    <tr>\n",
       "      <th>5</th>\n",
       "      <td>1</td>\n",
       "      <td>2</td>\n",
       "      <td>255</td>\n",
       "      <td>85</td>\n",
       "      <td>46</td>\n",
       "    </tr>\n",
       "    <tr>\n",
       "      <th>6</th>\n",
       "      <td>2</td>\n",
       "      <td>0</td>\n",
       "      <td>255</td>\n",
       "      <td>0</td>\n",
       "      <td>0</td>\n",
       "    </tr>\n",
       "    <tr>\n",
       "      <th>7</th>\n",
       "      <td>2</td>\n",
       "      <td>1</td>\n",
       "      <td>255</td>\n",
       "      <td>255</td>\n",
       "      <td>255</td>\n",
       "    </tr>\n",
       "    <tr>\n",
       "      <th>8</th>\n",
       "      <td>2</td>\n",
       "      <td>2</td>\n",
       "      <td>19</td>\n",
       "      <td>41</td>\n",
       "      <td>75</td>\n",
       "    </tr>\n",
       "  </tbody>\n",
       "</table>\n",
       "</div>"
      ],
      "text/plain": [
       "   x  y    r    g    b\n",
       "0  0  0    0    0  255\n",
       "1  0  1    0  255    0\n",
       "2  0  2  255  255  255\n",
       "3  1  0  255  255  255\n",
       "4  1  1    0    0    0\n",
       "5  1  2  255   85   46\n",
       "6  2  0  255    0    0\n",
       "7  2  1  255  255  255\n",
       "8  2  2   19   41   75"
      ]
     },
     "execution_count": 66,
     "metadata": {},
     "output_type": "execute_result"
    }
   ],
   "source": [
    "import DISCOVERY\n",
    "image = DISCOVERY.df_image(\"sample.png\")\n",
    "image"
   ]
  },
  {
   "attachments": {},
   "cell_type": "markdown",
   "metadata": {},
   "source": [
    "In the cell below, select the row with the GREEN 🟩 pixel (second row, first column) and store it in the variable `green_pixel`:"
   ]
  },
  {
   "cell_type": "code",
   "execution_count": 67,
   "metadata": {},
   "outputs": [
    {
     "data": {
      "text/html": [
       "<div>\n",
       "<style scoped>\n",
       "    .dataframe tbody tr th:only-of-type {\n",
       "        vertical-align: middle;\n",
       "    }\n",
       "\n",
       "    .dataframe tbody tr th {\n",
       "        vertical-align: top;\n",
       "    }\n",
       "\n",
       "    .dataframe thead th {\n",
       "        text-align: right;\n",
       "    }\n",
       "</style>\n",
       "<table border=\"1\" class=\"dataframe\">\n",
       "  <thead>\n",
       "    <tr style=\"text-align: right;\">\n",
       "      <th></th>\n",
       "      <th>x</th>\n",
       "      <th>y</th>\n",
       "      <th>r</th>\n",
       "      <th>g</th>\n",
       "      <th>b</th>\n",
       "    </tr>\n",
       "  </thead>\n",
       "  <tbody>\n",
       "    <tr>\n",
       "      <th>1</th>\n",
       "      <td>0</td>\n",
       "      <td>1</td>\n",
       "      <td>0</td>\n",
       "      <td>255</td>\n",
       "      <td>0</td>\n",
       "    </tr>\n",
       "  </tbody>\n",
       "</table>\n",
       "</div>"
      ],
      "text/plain": [
       "   x  y  r    g  b\n",
       "1  0  1  0  255  0"
      ]
     },
     "execution_count": 67,
     "metadata": {},
     "output_type": "execute_result"
    }
   ],
   "source": [
    "green_pixel = image[(image['r'] == 0) & (image['g'] == 255) & (image['b'] == 0)]\n",
    "\n",
    "green_pixel"
   ]
  },
  {
   "cell_type": "code",
   "execution_count": 68,
   "metadata": {},
   "outputs": [
    {
     "name": "stdout",
     "output_type": "stream",
     "text": [
      "✅ `green_pixel` contains just one pixel!\n",
      "✅ `green_pixel` is a green pixel!\n",
      "🎉 All tests passed! 🎉\n"
     ]
    }
   ],
   "source": [
    "# == TEST CASE for Section 1 ==\n",
    "import DISCOVERY\n",
    "DISCOVERY.run_test_case_1b(green_pixel)"
   ]
  },
  {
   "cell_type": "markdown",
   "metadata": {},
   "source": [
    "<hr style=\"color: #DD3403;\">"
   ]
  },
  {
   "cell_type": "markdown",
   "metadata": {},
   "source": [
    "# Section 2: Accessing Color Data\n",
    "\n",
    "Every color visible on a computer screen is made up of the three **primary colors of light** -- red, green, and blue.  Your monitor displays color by varying the intensity of the red light, green light, and blue light emitted for every pixel on your screen.  Since images are primary displayed on computer screens, the **default \"color space\" is to represent colors as red, green, and blue**.\n",
    "\n",
    "When you have a pixel, you will always see the three components.  For example, the contents of `green_pixel` is `[0, 255, 0]`:\n",
    "- The first `0` means we have 0 / 255 (0%) **red** light\n",
    "- The second `255` means we have 255 / 255 (100%) **green** light\n",
    "- The final `0` means we have 0 / 255 (0%) **blue** light\n",
    "\n",
    "## Section 2.1: Accessing Illini Orange\n",
    "\n",
    "Using the `image` you loaded in Section 1, load the Illini Orange colored pixel into `illini_orange_pixel`:"
   ]
  },
  {
   "cell_type": "code",
   "execution_count": 69,
   "metadata": {},
   "outputs": [
    {
     "data": {
      "text/html": [
       "<div>\n",
       "<style scoped>\n",
       "    .dataframe tbody tr th:only-of-type {\n",
       "        vertical-align: middle;\n",
       "    }\n",
       "\n",
       "    .dataframe tbody tr th {\n",
       "        vertical-align: top;\n",
       "    }\n",
       "\n",
       "    .dataframe thead th {\n",
       "        text-align: right;\n",
       "    }\n",
       "</style>\n",
       "<table border=\"1\" class=\"dataframe\">\n",
       "  <thead>\n",
       "    <tr style=\"text-align: right;\">\n",
       "      <th></th>\n",
       "      <th>x</th>\n",
       "      <th>y</th>\n",
       "      <th>r</th>\n",
       "      <th>g</th>\n",
       "      <th>b</th>\n",
       "    </tr>\n",
       "  </thead>\n",
       "  <tbody>\n",
       "    <tr>\n",
       "      <th>5</th>\n",
       "      <td>1</td>\n",
       "      <td>2</td>\n",
       "      <td>255</td>\n",
       "      <td>85</td>\n",
       "      <td>46</td>\n",
       "    </tr>\n",
       "  </tbody>\n",
       "</table>\n",
       "</div>"
      ],
      "text/plain": [
       "   x  y    r   g   b\n",
       "5  1  2  255  85  46"
      ]
     },
     "execution_count": 69,
     "metadata": {},
     "output_type": "execute_result"
    }
   ],
   "source": [
    "illini_orange_pixel = image[(image['r'] == 255) & (image['g'] == 85) & (image['b'] == 46)]\n",
    "illini_orange_pixel"
   ]
  },
  {
   "cell_type": "markdown",
   "metadata": {},
   "source": [
    "Now we can access the red, green, and blue components by their value in the list.  Once you have a pixel:\n",
    "\n",
    "- `illini_orange_pixel.r`/`illini_orange_pixel[\"r\"]` is the **column** that contains the red component of the pixel.\n",
    "\n",
    "Your `illini_orange_pixel` DataFrame only has one row, so we need to convert that **column** into just a value.  There are several ways to do this and you can choose any one of the following:\n",
    "\n",
    "- One method is to **sum all the values**: `illini_orange_pixel.r.sum()`, will sum up all the `r` values; since there's only one row in the DataFrame, the sum is the value you want.\n",
    "- Another method is to **access the list of values and pick the index 0 value**: `illini_orange_pixel.r.values[0]` will get all the values for `red` and choose the first one (index `0`).\n",
    "- ...and many other ways...\n",
    "\n",
    "Using any method you want, find the red, green, and blue values of the `illini_orange_pixel`:"
   ]
  },
  {
   "cell_type": "code",
   "execution_count": 70,
   "metadata": {},
   "outputs": [
    {
     "data": {
      "text/plain": [
       "np.int64(255)"
      ]
     },
     "execution_count": 70,
     "metadata": {},
     "output_type": "execute_result"
    }
   ],
   "source": [
    "red = illini_orange_pixel.r.sum()\n",
    "red"
   ]
  },
  {
   "cell_type": "code",
   "execution_count": 71,
   "metadata": {},
   "outputs": [
    {
     "data": {
      "text/plain": [
       "np.int64(85)"
      ]
     },
     "execution_count": 71,
     "metadata": {},
     "output_type": "execute_result"
    }
   ],
   "source": [
    "green = illini_orange_pixel.g.sum()\n",
    "green"
   ]
  },
  {
   "cell_type": "code",
   "execution_count": 72,
   "metadata": {},
   "outputs": [
    {
     "data": {
      "text/plain": [
       "np.int64(46)"
      ]
     },
     "execution_count": 72,
     "metadata": {},
     "output_type": "execute_result"
    }
   ],
   "source": [
    "blue = illini_orange_pixel.b.sum()\n",
    "blue"
   ]
  },
  {
   "cell_type": "code",
   "execution_count": 73,
   "metadata": {},
   "outputs": [
    {
     "name": "stdout",
     "output_type": "stream",
     "text": [
      "✅ `red` is a number!\n",
      "✅ `red` has the correct value!\n",
      "✅ `green` is a number!\n",
      "✅ `green` has the correct value!\n",
      "✅ `blue` is a number!\n",
      "✅ `blue` has the correct value!\n",
      "🎉 All tests passed! 🎉\n"
     ]
    }
   ],
   "source": [
    "# == TEST CASE for Section 2 ==\n",
    "DISCOVERY.run_test_case_2(red, green, blue)"
   ]
  },
  {
   "cell_type": "markdown",
   "metadata": {},
   "source": [
    "<hr style=\"color: #DD3403;\">"
   ]
  },
  {
   "cell_type": "markdown",
   "metadata": {},
   "source": [
    "# Section 3: Finding the Average Color of the Sample Image\n",
    "\n",
    "Now, find the average color of the **entire** `image` by finding `avg_r`, `avg_g`, and `avg_b`.\n",
    "\n",
    "*(You've already done this in `lab_favorites`, refer back to your lab if needed.)*"
   ]
  },
  {
   "cell_type": "code",
   "execution_count": 74,
   "metadata": {},
   "outputs": [
    {
     "data": {
      "text/plain": [
       "np.float64(143.77777777777777)"
      ]
     },
     "execution_count": 74,
     "metadata": {},
     "output_type": "execute_result"
    }
   ],
   "source": [
    "avg_r = image[\"r\"].mean()\n",
    "avg_r"
   ]
  },
  {
   "cell_type": "code",
   "execution_count": 75,
   "metadata": {},
   "outputs": [
    {
     "data": {
      "text/plain": [
       "np.float64(127.33333333333333)"
      ]
     },
     "execution_count": 75,
     "metadata": {},
     "output_type": "execute_result"
    }
   ],
   "source": [
    "avg_g = image[\"g\"].mean()\n",
    "avg_g"
   ]
  },
  {
   "cell_type": "code",
   "execution_count": 76,
   "metadata": {},
   "outputs": [
    {
     "data": {
      "text/plain": [
       "np.float64(126.77777777777777)"
      ]
     },
     "execution_count": 76,
     "metadata": {},
     "output_type": "execute_result"
    }
   ],
   "source": [
    "avg_b = image[\"b\"].mean()\n",
    "avg_b"
   ]
  },
  {
   "cell_type": "markdown",
   "metadata": {},
   "source": [
    "<hr style=\"color: #DD3403;\">"
   ]
  },
  {
   "cell_type": "markdown",
   "metadata": {},
   "source": [
    "# Section 4: Find the Average Color of ANY Image\n",
    "\n",
    "Building off Section 3, we now want to find the average color of **ANY** image.  To do that, we need to create a function that is given a DataFrame `image` and returns the average color of that image.\n",
    "\n",
    "Write this in the function `findAverageColor` below.  You must return the **average color as a dictionary** with the values:\n",
    "- `avg_r`, for the average red color,\n",
    "- `avg_g`, for the average green color,\n",
    "- `avg_b`, for the average blue color\n",
    "\n",
    "A **dictionary** is a data structure that stores multiple values.  You have used a dictionary in \"Step 4\" of your simulation code, where you use `d` to accumulate all real-world values.  Accumulate the values `avg_r`, `avg_g`, and `avg_b` just like you would in the simulation:\n",
    "\n",
    "---\n",
    "```py\n",
    "def findAverageImageColor(image):\n",
    "  ...\n",
    "\n",
    "  # Return a dictionary of average color:\n",
    "  d = {\"avg_r\" : avg_r, \"avg_g\": avg_g, \"avg_b\": avg_b}\n",
    "  return d\n",
    "```\n",
    "---\n",
    "\n",
    "Write the entire `findAverageImageColor` function to find the average color of the `image` passed into the function:"
   ]
  },
  {
   "cell_type": "code",
   "execution_count": 77,
   "metadata": {},
   "outputs": [],
   "source": [
    "def findAverageImageColor(image):\n",
    "  avg_r = image[\"r\"].mean()\n",
    "  avg_g = image[\"g\"].mean()\n",
    "  avg_b = image[\"b\"].mean()\n",
    "  d = {\"avg_r\" : avg_r, \"avg_g\": avg_g, \"avg_b\": avg_b}\n",
    "  return d\n",
    "\n"
   ]
  },
  {
   "cell_type": "code",
   "execution_count": 78,
   "metadata": {},
   "outputs": [
    {
     "name": "stdout",
     "output_type": "stream",
     "text": [
      "✅ Dictionary contain the key `avg_r`.\n",
      "✅ Dictionary contain the key `avg_g`.\n",
      "✅ Dictionary contain the key `avg_b`.\n",
      "✅ The values all appear correct!\n",
      "🎉 All tests passed! 🎉\n"
     ]
    }
   ],
   "source": [
    "# == TEST CASE for Section 4 ==\n",
    "DISCOVERY.run_test_case_4(findAverageImageColor)"
   ]
  },
  {
   "cell_type": "markdown",
   "metadata": {},
   "source": [
    "<hr style=\"color: #DD3403;\">"
   ]
  },
  {
   "cell_type": "markdown",
   "metadata": {},
   "source": [
    "# Section 5: Splitting Up Your Base Image\n",
    "\n",
    "To create a mosaic from an image, we must split the base image into small regions to be replaced with the tile images. To accomplish this, we need a function that will **find the subset of pixels found in a region of an image**.\n",
    "\n",
    "- Thinking about the 3x3 pixel image `sample.png` (from Section 1), we might need a 2x2 square (or 1x3 rectangle) of pixels instead of using all 3x3 pixels.\n",
    "\n",
    "\n",
    "### Your `findImageSubset` function\n",
    "\n",
    "Create a function `findImageSubset` that finds the subset of the image starting at (`x`, `y`), spanning `width` pixels wide and `height` pixels tall. Your function should return the **subset of all the pixels in that region of the image**.\n",
    "\n",
    "- Example: `findImageSubset(image, x=0, y=0, width=3, height=3)` -- returns subset of all the pixels in the square defined by: x=0...2 and y=0...2 (9 total pixels)\n",
    "\n",
    "- Example: `findImageSubset(image, x=5, y=5, width=5, height=5)` -- returns subset of all the pixels in the square defined by: x=5...9 and y=5...9 (25 total pixels)\n",
    "\n",
    "- Example: `findImageSubset(image, x=5, y=0, width=5, height=5)` -- returns subset of all the pixels in the square defined by: x=5...9 and y=0...4 (25 total pixels)"
   ]
  },
  {
   "cell_type": "code",
   "execution_count": 79,
   "metadata": {},
   "outputs": [],
   "source": [
    "def findImageSubset(image, x, y, width, height):\n",
    "  subset = image[(image['x'] >= x) & (image['x'] < x + width) & (image['y'] >= y) & (image['y'] < y + height)]\n",
    "  return subset"
   ]
  },
  {
   "cell_type": "code",
   "execution_count": 80,
   "metadata": {},
   "outputs": [
    {
     "name": "stdout",
     "output_type": "stream",
     "text": [
      "✅ Test case for findImageSubset(image, x=0, y=0, width=2, height=2) appears correct.\n",
      "✅ Test case for findImageSubset(image, x=2, y=0, width=2, height=2) appears correct.\n",
      "✅ Test case for findImageSubset(image, x=2, y=2, width=2, height=2) appears correct.\n",
      "✅ Test case for findImageSubset(image, x=5, y=1, width=2, height=2) appears correct.\n",
      "✅ Test case for findImageSubset(image, x=5, y=1, width=3, height=2) appears correct.\n",
      "✅ Test case for findImageSubset(image, x=5, y=1, width=4, height=3) appears correct.\n",
      "✅ Test case for findImageSubset(image, x=1, y=1, width=1, height=3) appears correct.\n",
      "🎉 All tests passed! 🎉\n"
     ]
    }
   ],
   "source": [
    "# == TEST CASE for Section 5 ==\n",
    "DISCOVERY.run_test_case_5(findImageSubset)"
   ]
  },
  {
   "cell_type": "markdown",
   "metadata": {},
   "source": [
    "<hr style=\"color: #DD3403;\">"
   ]
  },
  {
   "cell_type": "markdown",
   "metadata": {},
   "source": [
    "# Section 6: Finding the Average Color of a Subset\n",
    "\n",
    "You have created two functions:\n",
    "\n",
    "1. A function that finds the average color of a DataFrame of pixels (`findAverageImageColor`), **AND**\n",
    "2. A function that finds a subset of pixels of an image (`findImageSubset`)\n",
    "\n",
    "Create a new function, `findAverageImageSubsetColor` that combines both of them and returns the average color of a subset of the image:\n"
   ]
  },
  {
   "cell_type": "code",
   "execution_count": 81,
   "metadata": {},
   "outputs": [],
   "source": [
    "def findAverageImageSubsetColor(image, x, y, width, height):\n",
    "  # Find the subset:\n",
    "  subset = findImageSubset(image, x, y, width, height)\n",
    "  avg_color = findAverageImageColor(subset)\n",
    "\n",
    "  # Find and return the average color of the subset:\n",
    "  return avg_color"
   ]
  },
  {
   "cell_type": "code",
   "execution_count": 82,
   "metadata": {},
   "outputs": [
    {
     "name": "stdout",
     "output_type": "stream",
     "text": [
      "✅ Test case for findAverageImageSubsetColor(image, x=0, y=0, width=2, height=2) appears correct.\n",
      "✅ Test case for findAverageImageSubsetColor(image, x=2, y=0, width=2, height=2) appears correct.\n",
      "✅ Test case for findAverageImageSubsetColor(image, x=2, y=2, width=2, height=2) appears correct.\n",
      "✅ Test case for findAverageImageSubsetColor(image, x=5, y=1, width=2, height=2) appears correct.\n",
      "✅ Test case for findAverageImageSubsetColor(image, x=5, y=1, width=3, height=2) appears correct.\n",
      "✅ Test case for findAverageImageSubsetColor(image, x=5, y=1, width=4, height=3) appears correct.\n",
      "✅ Test case for findAverageImageSubsetColor(image, x=1, y=1, width=1, height=3) appears correct.\n",
      "🎉 All tests passed! 🎉\n"
     ]
    }
   ],
   "source": [
    "# == TEST CASE for Section 6 ==\n",
    "DISCOVERY.run_test_case_6(findAverageImageSubsetColor)"
   ]
  },
  {
   "cell_type": "markdown",
   "metadata": {},
   "source": [
    "<hr style=\"color: #DD3403;\">"
   ]
  },
  {
   "cell_type": "markdown",
   "metadata": {},
   "source": [
    "# Section 7: Finding the Average Color of Your Tile Images\n",
    "\n",
    "Before beginning the programming part of this project, you should have set up a directory called `tiles` that contains all of your tile images.  **If you haven't done that, you need to do that now.**\n",
    "\n",
    "To create an image mosaic, we need to find the average pixel color of every one of our tile images so that you can find the BEST tile image to use when you're creating your mosaic.  The code below is already complete and does the following:\n",
    "\n",
    "- Goes through each image file in your `tiles` directory,\n",
    "- Finds the average pixel color of each image using your `findAverageColor` function from Section 4,\n",
    "- Finally, creates a new DataFrame `df_tiles` with the average color of each image and returns that DataFrame.\n",
    "\n",
    "*Make sure to run this code -- we'll use it in the very next section!*"
   ]
  },
  {
   "cell_type": "code",
   "execution_count": 83,
   "metadata": {},
   "outputs": [],
   "source": [
    "import pandas as pd\n",
    "\n",
    "def createTilesDataFrame(path):\n",
    "  data = []\n",
    "\n",
    "  # Loop through all images in the `path` directory:\n",
    "  for tileImageFileName in DISCOVERY.listTileImagesInPath(path):\n",
    "    # Load the image as a DataFrame and find the average color:\n",
    "    image = DISCOVERY.df_image(tileImageFileName)\n",
    "    averageColor = findAverageImageColor(image)\n",
    "\n",
    "    # Store the fileName and average colors in a dictionary:\n",
    "    d = { \"fileName\": tileImageFileName, \"r\": averageColor[\"avg_r\"], \"g\": averageColor[\"avg_g\"], \"b\": averageColor[\"avg_b\"] }\n",
    "    data.append(d)\n",
    "\n",
    "  # Create the `df_tiles` DataFrame:\n",
    "  df_tiles = pd.DataFrame(data)\n",
    "  return df_tiles\n"
   ]
  },
  {
   "cell_type": "markdown",
   "metadata": {},
   "source": [
    "## Understand the Output\n",
    "\n",
    "Here's the DataFrame output that the function creates for some sample images.  The DataFrame has four columns:\n",
    "- `fileName`, containing the name of the tile image\n",
    "- `r`, `g`, and `b`, containing the average color for the image"
   ]
  },
  {
   "cell_type": "code",
   "execution_count": 84,
   "metadata": {},
   "outputs": [
    {
     "data": {
      "text/html": [
       "<div>\n",
       "<style scoped>\n",
       "    .dataframe tbody tr th:only-of-type {\n",
       "        vertical-align: middle;\n",
       "    }\n",
       "\n",
       "    .dataframe tbody tr th {\n",
       "        vertical-align: top;\n",
       "    }\n",
       "\n",
       "    .dataframe thead th {\n",
       "        text-align: right;\n",
       "    }\n",
       "</style>\n",
       "<table border=\"1\" class=\"dataframe\">\n",
       "  <thead>\n",
       "    <tr style=\"text-align: right;\">\n",
       "      <th></th>\n",
       "      <th>fileName</th>\n",
       "      <th>r</th>\n",
       "      <th>g</th>\n",
       "      <th>b</th>\n",
       "    </tr>\n",
       "  </thead>\n",
       "  <tbody>\n",
       "    <tr>\n",
       "      <th>0</th>\n",
       "      <td>notebook-images/sample-100x.png</td>\n",
       "      <td>144.146311</td>\n",
       "      <td>127.815078</td>\n",
       "      <td>127.247289</td>\n",
       "    </tr>\n",
       "    <tr>\n",
       "      <th>1</th>\n",
       "      <td>notebook-images/sample-50x.png</td>\n",
       "      <td>144.146311</td>\n",
       "      <td>127.812889</td>\n",
       "      <td>127.244000</td>\n",
       "    </tr>\n",
       "    <tr>\n",
       "      <th>2</th>\n",
       "      <td>notebook-images/sample.png</td>\n",
       "      <td>143.777778</td>\n",
       "      <td>127.333333</td>\n",
       "      <td>126.777778</td>\n",
       "    </tr>\n",
       "    <tr>\n",
       "      <th>3</th>\n",
       "      <td>notebook-images/test.png</td>\n",
       "      <td>192.062500</td>\n",
       "      <td>67.812500</td>\n",
       "      <td>45.750000</td>\n",
       "    </tr>\n",
       "    <tr>\n",
       "      <th>4</th>\n",
       "      <td>notebook-images/test2.png</td>\n",
       "      <td>232.000000</td>\n",
       "      <td>74.000000</td>\n",
       "      <td>39.000000</td>\n",
       "    </tr>\n",
       "    <tr>\n",
       "      <th>5</th>\n",
       "      <td>notebook-images/test3.png</td>\n",
       "      <td>187.625000</td>\n",
       "      <td>67.125000</td>\n",
       "      <td>46.500000</td>\n",
       "    </tr>\n",
       "  </tbody>\n",
       "</table>\n",
       "</div>"
      ],
      "text/plain": [
       "                          fileName           r           g           b\n",
       "0  notebook-images/sample-100x.png  144.146311  127.815078  127.247289\n",
       "1   notebook-images/sample-50x.png  144.146311  127.812889  127.244000\n",
       "2       notebook-images/sample.png  143.777778  127.333333  126.777778\n",
       "3         notebook-images/test.png  192.062500   67.812500   45.750000\n",
       "4        notebook-images/test2.png  232.000000   74.000000   39.000000\n",
       "5        notebook-images/test3.png  187.625000   67.125000   46.500000"
      ]
     },
     "execution_count": 84,
     "metadata": {},
     "output_type": "execute_result"
    }
   ],
   "source": [
    "createTilesDataFrame(\"notebook-images\")"
   ]
  },
  {
   "cell_type": "markdown",
   "metadata": {},
   "source": [
    "<hr style=\"color: #DD3403;\">"
   ]
  },
  {
   "cell_type": "markdown",
   "metadata": {},
   "source": [
    "# Section 8: Finding the Best Match\n",
    "\n",
    "There's just **one last function**.  This function needs to find the best tile for a given average color.\n",
    "\n",
    "To do this, you will use two pieces of data:\n",
    "\n",
    "1. You will use the DataFrame of all of your tile images that is generated in the previous section.  This will be passed into your function as `df_tiles`.\n",
    "2. You will use the average color of a subset of your image.  This is passed into your function as `r_avg`, `g_avg`, and `b_avg`.\n",
    "\n",
    "Using this data, `findBestTile` must **find the best tile image from `df_tiles` for a given average color**.  You should do this by finding the single row in `df_tiles` that has the smallest distance from the average color.\n",
    "\n",
    "## Example \n",
    "\n",
    "Imagine you just have three tiles, so your `df_tiles` DataFrame is:\n",
    "\n",
    "| fileName | r | g | b |\n",
    "| -------- | - | - | - |\n",
    "| red.jpg | 255 | 0 | 0 |\n",
    "| green.jpg | 0 | 255 | 0 |\n",
    "| blue.jpg | 0 | 0 | 255 |\n",
    "\n",
    "\n",
    "If your image subset has `r_avg` = 10, `g_avg` = 200, and `b_avg` = 20, we can use the distance formula (Pythagorean's Theorem) to find how \"far away\" the average color is from each of the tile images:\n",
    "\n",
    "1. For the red tile (255, 0, 0), the distance away is $d = \\sqrt{(255 - 10)^2 + (0 - 200)^2  + (0 - 20)^2} = 316.8990375$\n",
    "2. For the green tile (0, 255, 0), the distance away is $d = \\sqrt{(0 - 10)^2 + (255 - 200)^2  + (0 - 20)^2} = 59.37171044$\n",
    "3. For the blue tile (0, 0, 255), the distance away is $d = \\sqrt{(0 - 10)^2 + (0 - 200)^2  + (255 - 20)^2} = 308.7474696$\n",
    "\n",
    "We find that the green tile is the closest since it has the minimum distance.  The green tile should be returned.\n",
    "\n",
    "\n",
    "## Hints\n",
    "\n",
    "- It will be **VERY** helpful to add an extra column to your DataFrame -- like `df[\"distance\"] = ...`.\n",
    "- Once you have the distance calculated, how do you return just the smallest row?"
   ]
  },
  {
   "cell_type": "code",
   "execution_count": 85,
   "metadata": {},
   "outputs": [],
   "source": [
    "def findBestTile(df_tiles, r_avg, g_avg, b_avg):\n",
    "  df_tiles[\"distance\"] = ( ((df_tiles['r'] - r_avg) ** 2 + (df_tiles['g'] - g_avg) ** 2 + (df_tiles['b'] - b_avg) ** 2) ** 0.5)\n",
    "  best_tile = df_tiles.nsmallest(1, 'distance')\n",
    "  return best_tile\n"
   ]
  },
  {
   "cell_type": "code",
   "execution_count": 86,
   "metadata": {},
   "outputs": [
    {
     "name": "stdout",
     "output_type": "stream",
     "text": [
      "✅ Test case #1 (r=0, g=0, b=0) passed!\n",
      "✅ Test case #1 (r=47, g=49, b=38) passed!\n",
      "✅ Test case #1 (r=54, g=49, b=38) passed!\n",
      "✅ Test case #1 (r=54, g=49, b=52) passed!\n",
      "✅ Test case #1 (r=-100, g=-100, b=-100) passed!\n",
      "🎉 All tests passed! 🎉\n"
     ]
    }
   ],
   "source": [
    "# == TEST CASE for Section 8 ==\n",
    "DISCOVERY.run_test_case_8(findBestTile)"
   ]
  },
  {
   "cell_type": "markdown",
   "metadata": {},
   "source": [
    "<hr style=\"color: #DD3403;\">"
   ]
  },
  {
   "cell_type": "markdown",
   "metadata": {},
   "source": [
    "# Section 9: Your Mosaic!\n",
    "\n",
    "Time to put everything together!\n",
    "\n",
    "First, let's define some variables that you can configure to make your mosaic uniquely yours:"
   ]
  },
  {
   "cell_type": "code",
   "execution_count": 87,
   "metadata": {},
   "outputs": [],
   "source": [
    "# What is your base image file name?\n",
    "baseImageFileName = \"KangjinLoog.jpg\"\n",
    "\n",
    "# What folder contains your tile images?\n",
    "# - You can change this so you can have multiple different folders of tile images.\n",
    "tileImageFolder = \"illinois-instagram-images\"\n",
    "\n",
    "# What is the maximum number of tiles should your mosaic use across?\n",
    "# - More tiles across will increase the quality of the final image.\n",
    "# - More tiles across will cause your program to run slower.\n",
    "# ...if you have bugs, start this value slow (it won't look great, but it will make it run fast!)\n",
    "# ...a value around 200 usually looks quite good, but play around with this number!\n",
    "maximumTilesX = 1000\n",
    "\n",
    "# What height should your tiles be in your mosaic?\n",
    "# - A larger tile image will result in a larger output file.\n",
    "# - A larger tile image will result in your program running slower.\n",
    "# - A larger tile image will result in more detail in the output file.\n",
    "tileHeight = 32\n"
   ]
  },
  {
   "cell_type": "markdown",
   "metadata": {},
   "source": [
    "## Now create your mosaic!\n",
    "\n",
    "Run the code to create your mosaic.\n",
    "\n",
    "- This **WILL SERIOUSLY** take a bit of time (even more time on slower/older laptops).\n",
    "- This will run fastest if your laptop is plugged in (when it's unplugged, your laptop will try and save power and may not run at full speed)."
   ]
  },
  {
   "cell_type": "markdown",
   "metadata": {},
   "source": [
    "## Part 1: Generate the `df_tiles` DataFrame from your tile images\n",
    "\n",
    "⚠️: If you are using **large images** (ex: phone camera images, etc), this **may take many hours to run**.  You may want to shrink them using the notebook we provided:\n",
    "- We have provided you a notebook `shrink-images.ipynb` that will shrink your tile images to a small size to run faster.\n",
    "- *(In DISCOVERY, you focused on understanding the algorithm and not using the most efficient data structures; to understand the most efficient data structure, you'll want to take CS 225 to learn about kd-trees.)*."
   ]
  },
  {
   "cell_type": "code",
   "execution_count": 88,
   "metadata": {},
   "outputs": [
    {
     "name": "stdout",
     "output_type": "stream",
     "text": [
      "Creating `df_tiles` from tile images in folder `illinois-instagram-images`...\n",
      "...found 1805 tile images!\n"
     ]
    },
    {
     "data": {
      "text/html": [
       "<div>\n",
       "<style scoped>\n",
       "    .dataframe tbody tr th:only-of-type {\n",
       "        vertical-align: middle;\n",
       "    }\n",
       "\n",
       "    .dataframe tbody tr th {\n",
       "        vertical-align: top;\n",
       "    }\n",
       "\n",
       "    .dataframe thead th {\n",
       "        text-align: right;\n",
       "    }\n",
       "</style>\n",
       "<table border=\"1\" class=\"dataframe\">\n",
       "  <thead>\n",
       "    <tr style=\"text-align: right;\">\n",
       "      <th></th>\n",
       "      <th>fileName</th>\n",
       "      <th>r</th>\n",
       "      <th>g</th>\n",
       "      <th>b</th>\n",
       "    </tr>\n",
       "  </thead>\n",
       "  <tbody>\n",
       "    <tr>\n",
       "      <th>0</th>\n",
       "      <td>illinois-instagram-images/10009374_10358447698...</td>\n",
       "      <td>121.041250</td>\n",
       "      <td>136.222344</td>\n",
       "      <td>139.622344</td>\n",
       "    </tr>\n",
       "    <tr>\n",
       "      <th>1</th>\n",
       "      <td>illinois-instagram-images/10349723_15147162355...</td>\n",
       "      <td>196.766234</td>\n",
       "      <td>203.713611</td>\n",
       "      <td>209.111823</td>\n",
       "    </tr>\n",
       "    <tr>\n",
       "      <th>2</th>\n",
       "      <td>illinois-instagram-images/10454218_89058181762...</td>\n",
       "      <td>129.087813</td>\n",
       "      <td>102.122344</td>\n",
       "      <td>99.024375</td>\n",
       "    </tr>\n",
       "    <tr>\n",
       "      <th>3</th>\n",
       "      <td>illinois-instagram-images/10553974_14270404609...</td>\n",
       "      <td>173.727812</td>\n",
       "      <td>162.035000</td>\n",
       "      <td>159.472813</td>\n",
       "    </tr>\n",
       "    <tr>\n",
       "      <th>4</th>\n",
       "      <td>illinois-instagram-images/10569992_83671987307...</td>\n",
       "      <td>95.450312</td>\n",
       "      <td>74.631094</td>\n",
       "      <td>77.099844</td>\n",
       "    </tr>\n",
       "    <tr>\n",
       "      <th>...</th>\n",
       "      <td>...</td>\n",
       "      <td>...</td>\n",
       "      <td>...</td>\n",
       "      <td>...</td>\n",
       "    </tr>\n",
       "    <tr>\n",
       "      <th>1800</th>\n",
       "      <td>illinois-instagram-images/929215_3526439049003...</td>\n",
       "      <td>125.584594</td>\n",
       "      <td>124.698015</td>\n",
       "      <td>117.237240</td>\n",
       "    </tr>\n",
       "    <tr>\n",
       "      <th>1801</th>\n",
       "      <td>illinois-instagram-images/929215_3526439049003...</td>\n",
       "      <td>135.564404</td>\n",
       "      <td>125.313885</td>\n",
       "      <td>118.863920</td>\n",
       "    </tr>\n",
       "    <tr>\n",
       "      <th>1802</th>\n",
       "      <td>illinois-instagram-images/929215_3526439049003...</td>\n",
       "      <td>140.856821</td>\n",
       "      <td>104.608380</td>\n",
       "      <td>101.328428</td>\n",
       "    </tr>\n",
       "    <tr>\n",
       "      <th>1803</th>\n",
       "      <td>illinois-instagram-images/929215_3526439049003...</td>\n",
       "      <td>98.680156</td>\n",
       "      <td>67.394688</td>\n",
       "      <td>52.479062</td>\n",
       "    </tr>\n",
       "    <tr>\n",
       "      <th>1804</th>\n",
       "      <td>illinois-instagram-images/929215_3526439049003...</td>\n",
       "      <td>160.243281</td>\n",
       "      <td>137.399063</td>\n",
       "      <td>103.378906</td>\n",
       "    </tr>\n",
       "  </tbody>\n",
       "</table>\n",
       "<p>1805 rows × 4 columns</p>\n",
       "</div>"
      ],
      "text/plain": [
       "                                               fileName           r  \\\n",
       "0     illinois-instagram-images/10009374_10358447698...  121.041250   \n",
       "1     illinois-instagram-images/10349723_15147162355...  196.766234   \n",
       "2     illinois-instagram-images/10454218_89058181762...  129.087813   \n",
       "3     illinois-instagram-images/10553974_14270404609...  173.727812   \n",
       "4     illinois-instagram-images/10569992_83671987307...   95.450312   \n",
       "...                                                 ...         ...   \n",
       "1800  illinois-instagram-images/929215_3526439049003...  125.584594   \n",
       "1801  illinois-instagram-images/929215_3526439049003...  135.564404   \n",
       "1802  illinois-instagram-images/929215_3526439049003...  140.856821   \n",
       "1803  illinois-instagram-images/929215_3526439049003...   98.680156   \n",
       "1804  illinois-instagram-images/929215_3526439049003...  160.243281   \n",
       "\n",
       "               g           b  \n",
       "0     136.222344  139.622344  \n",
       "1     203.713611  209.111823  \n",
       "2     102.122344   99.024375  \n",
       "3     162.035000  159.472813  \n",
       "4      74.631094   77.099844  \n",
       "...          ...         ...  \n",
       "1800  124.698015  117.237240  \n",
       "1801  125.313885  118.863920  \n",
       "1802  104.608380  101.328428  \n",
       "1803   67.394688   52.479062  \n",
       "1804  137.399063  103.378906  \n",
       "\n",
       "[1805 rows x 4 columns]"
      ]
     },
     "execution_count": 88,
     "metadata": {},
     "output_type": "execute_result"
    }
   ],
   "source": [
    "print(f\"Creating `df_tiles` from tile images in folder `{tileImageFolder}`...\")\n",
    "df_tiles = createTilesDataFrame(tileImageFolder)\n",
    "print(f\"...found {len(df_tiles)} tile images!\")\n",
    "df_tiles"
   ]
  },
  {
   "cell_type": "markdown",
   "metadata": {},
   "source": [
    "## Part 2: Loading your `baseImage`\n",
    "\n",
    "⚠️: If you are using **an extremely large image** this may take awhile to run (particularly on older laptops or if you're not plugged in).  You may want to resize your baseImage if this is taking a long time to run.  An image ~1000px across may take anywhere from 10 seconds to 5 minutes."
   ]
  },
  {
   "cell_type": "code",
   "execution_count": 89,
   "metadata": {},
   "outputs": [
    {
     "name": "stdout",
     "output_type": "stream",
     "text": [
      "Loading your base image `KangjinLoog.jpg`...\n"
     ]
    },
    {
     "data": {
      "text/html": [
       "<div>\n",
       "<style scoped>\n",
       "    .dataframe tbody tr th:only-of-type {\n",
       "        vertical-align: middle;\n",
       "    }\n",
       "\n",
       "    .dataframe tbody tr th {\n",
       "        vertical-align: top;\n",
       "    }\n",
       "\n",
       "    .dataframe thead th {\n",
       "        text-align: right;\n",
       "    }\n",
       "</style>\n",
       "<table border=\"1\" class=\"dataframe\">\n",
       "  <thead>\n",
       "    <tr style=\"text-align: right;\">\n",
       "      <th></th>\n",
       "      <th>x</th>\n",
       "      <th>y</th>\n",
       "      <th>r</th>\n",
       "      <th>g</th>\n",
       "      <th>b</th>\n",
       "    </tr>\n",
       "  </thead>\n",
       "  <tbody>\n",
       "    <tr>\n",
       "      <th>0</th>\n",
       "      <td>0</td>\n",
       "      <td>0</td>\n",
       "      <td>69</td>\n",
       "      <td>90</td>\n",
       "      <td>121</td>\n",
       "    </tr>\n",
       "    <tr>\n",
       "      <th>1</th>\n",
       "      <td>0</td>\n",
       "      <td>1</td>\n",
       "      <td>73</td>\n",
       "      <td>94</td>\n",
       "      <td>125</td>\n",
       "    </tr>\n",
       "    <tr>\n",
       "      <th>2</th>\n",
       "      <td>0</td>\n",
       "      <td>2</td>\n",
       "      <td>77</td>\n",
       "      <td>98</td>\n",
       "      <td>129</td>\n",
       "    </tr>\n",
       "    <tr>\n",
       "      <th>3</th>\n",
       "      <td>0</td>\n",
       "      <td>3</td>\n",
       "      <td>76</td>\n",
       "      <td>97</td>\n",
       "      <td>128</td>\n",
       "    </tr>\n",
       "    <tr>\n",
       "      <th>4</th>\n",
       "      <td>0</td>\n",
       "      <td>4</td>\n",
       "      <td>75</td>\n",
       "      <td>98</td>\n",
       "      <td>129</td>\n",
       "    </tr>\n",
       "    <tr>\n",
       "      <th>...</th>\n",
       "      <td>...</td>\n",
       "      <td>...</td>\n",
       "      <td>...</td>\n",
       "      <td>...</td>\n",
       "      <td>...</td>\n",
       "    </tr>\n",
       "    <tr>\n",
       "      <th>2073595</th>\n",
       "      <td>1919</td>\n",
       "      <td>1075</td>\n",
       "      <td>155</td>\n",
       "      <td>168</td>\n",
       "      <td>187</td>\n",
       "    </tr>\n",
       "    <tr>\n",
       "      <th>2073596</th>\n",
       "      <td>1919</td>\n",
       "      <td>1076</td>\n",
       "      <td>157</td>\n",
       "      <td>168</td>\n",
       "      <td>188</td>\n",
       "    </tr>\n",
       "    <tr>\n",
       "      <th>2073597</th>\n",
       "      <td>1919</td>\n",
       "      <td>1077</td>\n",
       "      <td>157</td>\n",
       "      <td>168</td>\n",
       "      <td>188</td>\n",
       "    </tr>\n",
       "    <tr>\n",
       "      <th>2073598</th>\n",
       "      <td>1919</td>\n",
       "      <td>1078</td>\n",
       "      <td>156</td>\n",
       "      <td>164</td>\n",
       "      <td>183</td>\n",
       "    </tr>\n",
       "    <tr>\n",
       "      <th>2073599</th>\n",
       "      <td>1919</td>\n",
       "      <td>1079</td>\n",
       "      <td>153</td>\n",
       "      <td>161</td>\n",
       "      <td>180</td>\n",
       "    </tr>\n",
       "  </tbody>\n",
       "</table>\n",
       "<p>2073600 rows × 5 columns</p>\n",
       "</div>"
      ],
      "text/plain": [
       "            x     y    r    g    b\n",
       "0           0     0   69   90  121\n",
       "1           0     1   73   94  125\n",
       "2           0     2   77   98  129\n",
       "3           0     3   76   97  128\n",
       "4           0     4   75   98  129\n",
       "...       ...   ...  ...  ...  ...\n",
       "2073595  1919  1075  155  168  187\n",
       "2073596  1919  1076  157  168  188\n",
       "2073597  1919  1077  157  168  188\n",
       "2073598  1919  1078  156  164  183\n",
       "2073599  1919  1079  153  161  180\n",
       "\n",
       "[2073600 rows x 5 columns]"
      ]
     },
     "execution_count": 89,
     "metadata": {},
     "output_type": "execute_result"
    }
   ],
   "source": [
    "print(f\"Loading your base image `{baseImageFileName}`...\")\n",
    "baseImage = DISCOVERY.df_image(baseImageFileName)\n",
    "width = baseImage.x.max()\n",
    "height = baseImage.y.max()\n",
    "\n",
    "baseImage"
   ]
  },
  {
   "cell_type": "markdown",
   "metadata": {},
   "source": [
    "## Part 3: Create a mosaic by finding the best match\n",
    "\n",
    "⚠️: If you are using a large values for `maximumTilesX` (set at the beginning of this section), this may take a long time."
   ]
  },
  {
   "cell_type": "code",
   "execution_count": 90,
   "metadata": {},
   "outputs": [
    {
     "name": "stdout",
     "output_type": "stream",
     "text": [
      "Finding best replacement image for each tile...\n",
      "  ...progress: 516901 / 516901 (100.00%)\n",
      "\n",
      "🎉 MOSAIC COMPLETE! 🎉\n",
      "- See `mosaic-hq.jpg` to see your HQ mosaic! (The file may be HUGE.)\n",
      "- See `mosaic.jpg` to see a mosaic best suited for the web (still big, but not HUGE)!\n"
     ]
    }
   ],
   "source": [
    "import sys\n",
    "\n",
    "print(f\"Finding best replacement image for each tile...\")\n",
    "# Find the pixelsPerTile to know the pixels used in the base image per mosaic tile:\n",
    "import math\n",
    "\n",
    "pixelsPerTile = int(math.ceil(width / maximumTilesX))\n",
    "width = int(math.floor(width / pixelsPerTile) * pixelsPerTile)\n",
    "height = int(math.floor(height / pixelsPerTile) * pixelsPerTile)\n",
    "tilesX = int(width / pixelsPerTile)\n",
    "tilesY = int(height / pixelsPerTile)\n",
    "\n",
    "# Create the mosaic:\n",
    "from PIL import Image\n",
    "mosaic = Image.new('RGB', (int(tilesX * tileHeight), int(tilesY * tileHeight)))\n",
    "for x in range(0, width, pixelsPerTile):\n",
    "  for y in range(0, height, pixelsPerTile):\n",
    "    avg_color = findAverageImageSubsetColor(baseImage, x, y, pixelsPerTile, pixelsPerTile)\n",
    "    replacement = findBestTile(df_tiles, avg_color[\"avg_r\"], avg_color[\"avg_g\"], avg_color[\"avg_b\"])\n",
    "\n",
    "    tile = DISCOVERY.getTileImage(replacement[\"fileName\"].values[0], tileHeight)\n",
    "    mosaic.paste(tile, (int(x / pixelsPerTile) * tileHeight, int(y / pixelsPerTile) * tileHeight))\n",
    "\n",
    "  # Print out a progress message:\n",
    "  curRow = int((x / pixelsPerTile) + 1)\n",
    "  pct = (curRow / tilesX) * 100\n",
    "  sys.stdout.write(f'\\r  ...progress: {curRow * tilesY} / {tilesX * tilesY} ({pct:.2f}%)')\n",
    "\n",
    "# Save it\n",
    "mosaic.save('mosaic-hd.jpg')\n",
    "\n",
    "# Save a smaller one (for posting):\n",
    "import PIL\n",
    "d = max(width, height)\n",
    "factor = d / 4000\n",
    "if factor <= 1: factor = 1\n",
    "\n",
    "small_w = width / factor\n",
    "small_h = height / factor    \n",
    "baseImage = mosaic.resize( (int(small_w), int(small_h)), resample=PIL.Image.LANCZOS )\n",
    "baseImage.save('mosaic-web.jpg')\n",
    "\n",
    "# Print a message:\n",
    "tada = \"\\N{PARTY POPPER}\"\n",
    "print(\"\")\n",
    "print(\"\")\n",
    "print(f\"{tada} MOSAIC COMPLETE! {tada}\")\n",
    "print(\"- See `mosaic-hq.jpg` to see your HQ mosaic! (The file may be HUGE.)\")\n",
    "print(\"- See `mosaic.jpg` to see a mosaic best suited for the web (still big, but not HUGE)!\")"
   ]
  },
  {
   "cell_type": "markdown",
   "metadata": {},
   "source": [
    "<hr style=\"color: #DD3403;\">"
   ]
  },
  {
   "cell_type": "markdown",
   "metadata": {},
   "source": [
    "# Section 10: Verify Your Mosaic Looks Good!\n",
    "\n",
    "Your mosaic is uniquely yours -- generated by your code, your base image, and your tile images.  Your mosaic must look like an image.\n",
    "\n",
    "If you find your mosaic does not look like your original image, there are several factors that might cause this:\n",
    "\n",
    "1. You may not have enough tile images.  You generally need **at least 100 tile images of a large range of colors** to start to create a decent mosaic.  If you want a high quality mosaic, use more tile images.\n",
    "\n",
    "2. You may have set too few tiles across.  The `maximumTilesX` at the beginning of Section 9 controls the size of your grid.  A value of `maximumTilesX = 100` or higher is usually needed to create a decent mosaic.\n",
    "\n",
    "3. Your functions may be incorrect.  We provided test cases to try and catch common errors, but we may have missed something!\n",
    "\n",
    "Add more tiles, change your parameters, or double-check your code and continue to work on this until you have a mosaic you're proud of! :)"
   ]
  },
  {
   "cell_type": "markdown",
   "metadata": {},
   "source": [
    "<hr style=\"color: #DD3403;\">"
   ]
  },
  {
   "cell_type": "markdown",
   "metadata": {},
   "source": [
    "# Section 11: Extra Credit\n",
    "\n",
    "So your mosaic is fantastic -- but I think you can make it can be **even MORE fantastic**!  If you have ideas about how to improve your mosaic, use the following cells to re-program a function or otherwise change your logic and then re-create your mosaic.\n",
    "\n",
    "If you're not sure and want some inspiration, visit **#project-extra-credit**.  We'll work together on ideas -- after the first week, we will share some of our ideas.  Be sure to look at the **pinned messages** on the channel for suggestions that we find to be really good ways of improving the mosaic!  (We have a few in mind as we write this, but there's probably even more!  You should aim to have fun!)"
   ]
  },
  {
   "cell_type": "code",
   "execution_count": 91,
   "metadata": {},
   "outputs": [],
   "source": [
    "# Use these cells to add your extra credit code.\n",
    "# ...and feel free to add more cells! :)"
   ]
  },
  {
   "cell_type": "markdown",
   "metadata": {},
   "source": [
    "<hr style=\"color: #DD3403;\">"
   ]
  },
  {
   "attachments": {},
   "cell_type": "markdown",
   "metadata": {},
   "source": [
    "# Section 12: Showcase and Submission\n",
    "\n",
    "We would **love** for you to share your mosaic!  We have created the discord channel `#mosaic-showcase` just to show off your mosaic -- we hope you will add your `mosaic-web.jpg` there and check out others! :)\n",
    "\n",
    "## Submission\n",
    "\n",
    "You're almost done!  All you need to do is to commit your lab to GitHub:\n",
    "\n",
    "1.  ⚠️ **Make certain to save your work.** ⚠️ To do this, go to **File => Save All**\n",
    "\n",
    "2.  After you have saved, exit this notebook and follow the Canvas instructions to commit this lab to your Git repository!\n",
    "\n",
    "3. Your TA will grade your submission and provide you feedback after the project is due. :)"
   ]
  }
 ],
 "metadata": {
  "kernelspec": {
   "display_name": "Python 3",
   "language": "python",
   "name": "python3"
  },
  "language_info": {
   "codemirror_mode": {
    "name": "ipython",
    "version": 3
   },
   "file_extension": ".py",
   "mimetype": "text/x-python",
   "name": "python",
   "nbconvert_exporter": "python",
   "pygments_lexer": "ipython3",
   "version": "3.12.9"
  }
 },
 "nbformat": 4,
 "nbformat_minor": 2
}
